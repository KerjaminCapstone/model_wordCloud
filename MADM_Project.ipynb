{
  "nbformat": 4,
  "nbformat_minor": 0,
  "metadata": {
    "colab": {
      "name": "MADM Project.ipynb",
      "provenance": []
    },
    "kernelspec": {
      "name": "python3",
      "display_name": "Python 3"
    },
    "language_info": {
      "name": "python"
    }
  },
  "cells": [
    {
      "cell_type": "markdown",
      "source": [
        "#MADM"
      ],
      "metadata": {
        "id": "2ZqPRVo7AyMa"
      }
    },
    {
      "cell_type": "code",
      "source": [
        "import pandas as pd\n",
        "import numpy as np\n",
        "import operator"
      ],
      "metadata": {
        "id": "mEDFzfLccPql"
      },
      "execution_count": 80,
      "outputs": []
    },
    {
      "cell_type": "code",
      "source": [
        "data = pd.read_excel('ujicobaMADM.xlsx')\n",
        "data"
      ],
      "metadata": {
        "colab": {
          "base_uri": "https://localhost:8080/",
          "height": 363
        },
        "id": "NzyOPbnEcQzs",
        "outputId": "17e07dbb-da42-4c93-8aac-00937be949c9"
      },
      "execution_count": 81,
      "outputs": [
        {
          "output_type": "execute_result",
          "data": {
            "text/plain": [
              "  Alternatif   C1   C2\n",
              "0         A1  0.5  1.0\n",
              "1         A2  9.0  4.8\n",
              "2         A3  5.3  3.7\n",
              "3         A4  0.3  2.3\n",
              "4         A5  4.2  3.0\n",
              "5         A6  3.7  3.1\n",
              "6         A7  8.3  2.5\n",
              "7         A8  6.2  1.7\n",
              "8         A9  7.0  1.8\n",
              "9        A10  2.9  4.1"
            ],
            "text/html": [
              "\n",
              "  <div id=\"df-deeba5e8-7e5f-4c7a-bf49-5c42a19bccb8\">\n",
              "    <div class=\"colab-df-container\">\n",
              "      <div>\n",
              "<style scoped>\n",
              "    .dataframe tbody tr th:only-of-type {\n",
              "        vertical-align: middle;\n",
              "    }\n",
              "\n",
              "    .dataframe tbody tr th {\n",
              "        vertical-align: top;\n",
              "    }\n",
              "\n",
              "    .dataframe thead th {\n",
              "        text-align: right;\n",
              "    }\n",
              "</style>\n",
              "<table border=\"1\" class=\"dataframe\">\n",
              "  <thead>\n",
              "    <tr style=\"text-align: right;\">\n",
              "      <th></th>\n",
              "      <th>Alternatif</th>\n",
              "      <th>C1</th>\n",
              "      <th>C2</th>\n",
              "    </tr>\n",
              "  </thead>\n",
              "  <tbody>\n",
              "    <tr>\n",
              "      <th>0</th>\n",
              "      <td>A1</td>\n",
              "      <td>0.5</td>\n",
              "      <td>1.0</td>\n",
              "    </tr>\n",
              "    <tr>\n",
              "      <th>1</th>\n",
              "      <td>A2</td>\n",
              "      <td>9.0</td>\n",
              "      <td>4.8</td>\n",
              "    </tr>\n",
              "    <tr>\n",
              "      <th>2</th>\n",
              "      <td>A3</td>\n",
              "      <td>5.3</td>\n",
              "      <td>3.7</td>\n",
              "    </tr>\n",
              "    <tr>\n",
              "      <th>3</th>\n",
              "      <td>A4</td>\n",
              "      <td>0.3</td>\n",
              "      <td>2.3</td>\n",
              "    </tr>\n",
              "    <tr>\n",
              "      <th>4</th>\n",
              "      <td>A5</td>\n",
              "      <td>4.2</td>\n",
              "      <td>3.0</td>\n",
              "    </tr>\n",
              "    <tr>\n",
              "      <th>5</th>\n",
              "      <td>A6</td>\n",
              "      <td>3.7</td>\n",
              "      <td>3.1</td>\n",
              "    </tr>\n",
              "    <tr>\n",
              "      <th>6</th>\n",
              "      <td>A7</td>\n",
              "      <td>8.3</td>\n",
              "      <td>2.5</td>\n",
              "    </tr>\n",
              "    <tr>\n",
              "      <th>7</th>\n",
              "      <td>A8</td>\n",
              "      <td>6.2</td>\n",
              "      <td>1.7</td>\n",
              "    </tr>\n",
              "    <tr>\n",
              "      <th>8</th>\n",
              "      <td>A9</td>\n",
              "      <td>7.0</td>\n",
              "      <td>1.8</td>\n",
              "    </tr>\n",
              "    <tr>\n",
              "      <th>9</th>\n",
              "      <td>A10</td>\n",
              "      <td>2.9</td>\n",
              "      <td>4.1</td>\n",
              "    </tr>\n",
              "  </tbody>\n",
              "</table>\n",
              "</div>\n",
              "      <button class=\"colab-df-convert\" onclick=\"convertToInteractive('df-deeba5e8-7e5f-4c7a-bf49-5c42a19bccb8')\"\n",
              "              title=\"Convert this dataframe to an interactive table.\"\n",
              "              style=\"display:none;\">\n",
              "        \n",
              "  <svg xmlns=\"http://www.w3.org/2000/svg\" height=\"24px\"viewBox=\"0 0 24 24\"\n",
              "       width=\"24px\">\n",
              "    <path d=\"M0 0h24v24H0V0z\" fill=\"none\"/>\n",
              "    <path d=\"M18.56 5.44l.94 2.06.94-2.06 2.06-.94-2.06-.94-.94-2.06-.94 2.06-2.06.94zm-11 1L8.5 8.5l.94-2.06 2.06-.94-2.06-.94L8.5 2.5l-.94 2.06-2.06.94zm10 10l.94 2.06.94-2.06 2.06-.94-2.06-.94-.94-2.06-.94 2.06-2.06.94z\"/><path d=\"M17.41 7.96l-1.37-1.37c-.4-.4-.92-.59-1.43-.59-.52 0-1.04.2-1.43.59L10.3 9.45l-7.72 7.72c-.78.78-.78 2.05 0 2.83L4 21.41c.39.39.9.59 1.41.59.51 0 1.02-.2 1.41-.59l7.78-7.78 2.81-2.81c.8-.78.8-2.07 0-2.86zM5.41 20L4 18.59l7.72-7.72 1.47 1.35L5.41 20z\"/>\n",
              "  </svg>\n",
              "      </button>\n",
              "      \n",
              "  <style>\n",
              "    .colab-df-container {\n",
              "      display:flex;\n",
              "      flex-wrap:wrap;\n",
              "      gap: 12px;\n",
              "    }\n",
              "\n",
              "    .colab-df-convert {\n",
              "      background-color: #E8F0FE;\n",
              "      border: none;\n",
              "      border-radius: 50%;\n",
              "      cursor: pointer;\n",
              "      display: none;\n",
              "      fill: #1967D2;\n",
              "      height: 32px;\n",
              "      padding: 0 0 0 0;\n",
              "      width: 32px;\n",
              "    }\n",
              "\n",
              "    .colab-df-convert:hover {\n",
              "      background-color: #E2EBFA;\n",
              "      box-shadow: 0px 1px 2px rgba(60, 64, 67, 0.3), 0px 1px 3px 1px rgba(60, 64, 67, 0.15);\n",
              "      fill: #174EA6;\n",
              "    }\n",
              "\n",
              "    [theme=dark] .colab-df-convert {\n",
              "      background-color: #3B4455;\n",
              "      fill: #D2E3FC;\n",
              "    }\n",
              "\n",
              "    [theme=dark] .colab-df-convert:hover {\n",
              "      background-color: #434B5C;\n",
              "      box-shadow: 0px 1px 3px 1px rgba(0, 0, 0, 0.15);\n",
              "      filter: drop-shadow(0px 1px 2px rgba(0, 0, 0, 0.3));\n",
              "      fill: #FFFFFF;\n",
              "    }\n",
              "  </style>\n",
              "\n",
              "      <script>\n",
              "        const buttonEl =\n",
              "          document.querySelector('#df-deeba5e8-7e5f-4c7a-bf49-5c42a19bccb8 button.colab-df-convert');\n",
              "        buttonEl.style.display =\n",
              "          google.colab.kernel.accessAllowed ? 'block' : 'none';\n",
              "\n",
              "        async function convertToInteractive(key) {\n",
              "          const element = document.querySelector('#df-deeba5e8-7e5f-4c7a-bf49-5c42a19bccb8');\n",
              "          const dataTable =\n",
              "            await google.colab.kernel.invokeFunction('convertToInteractive',\n",
              "                                                     [key], {});\n",
              "          if (!dataTable) return;\n",
              "\n",
              "          const docLinkHtml = 'Like what you see? Visit the ' +\n",
              "            '<a target=\"_blank\" href=https://colab.research.google.com/notebooks/data_table.ipynb>data table notebook</a>'\n",
              "            + ' to learn more about interactive tables.';\n",
              "          element.innerHTML = '';\n",
              "          dataTable['output_type'] = 'display_data';\n",
              "          await google.colab.output.renderOutput(dataTable, element);\n",
              "          const docLink = document.createElement('div');\n",
              "          docLink.innerHTML = docLinkHtml;\n",
              "          element.appendChild(docLink);\n",
              "        }\n",
              "      </script>\n",
              "    </div>\n",
              "  </div>\n",
              "  "
            ]
          },
          "metadata": {},
          "execution_count": 81
        }
      ]
    },
    {
      "cell_type": "markdown",
      "source": [
        "##Berdasarkan Rekomendasi"
      ],
      "metadata": {
        "id": "Rfz0v6tHX3L0"
      }
    },
    {
      "cell_type": "code",
      "source": [
        "bobotJarak = float(input(\"Masukkan bobot jarak: \"))\n",
        "bobotRating = float(input(\"Masukkan bobot rating: \"))\n",
        "# rekomendasi = int(input(\"Masukkan bobot rekomendasi: \"))"
      ],
      "metadata": {
        "colab": {
          "base_uri": "https://localhost:8080/"
        },
        "id": "cXUdk7yiDtiH",
        "outputId": "47143ba9-b47a-4c10-c67b-598cea38fec4"
      },
      "execution_count": 17,
      "outputs": [
        {
          "name": "stdout",
          "output_type": "stream",
          "text": [
            "Masukkan bobot jarak: 0.5\n",
            "Masukkan bobot rating: 0.5\n"
          ]
        }
      ]
    },
    {
      "cell_type": "code",
      "source": [
        "# jarak bersifat cost = cari minimalnya\n",
        "# rating bersifat benefit = cari maksimalnya\n",
        "\n",
        "jarakMin=data['C1'].min()\n",
        "ratingMax=data['C2'].max()"
      ],
      "metadata": {
        "id": "53UzLxThIVA8"
      },
      "execution_count": 13,
      "outputs": []
    },
    {
      "cell_type": "code",
      "source": [
        "# Normalisasi nilai kriteria jarak\n",
        "normalisasiJarak=[]\n",
        "dataJarak = data['C1']\n",
        "for i in dataJarak:\n",
        "  normalisasiJarak.append(jarakMin/i)"
      ],
      "metadata": {
        "id": "vZm3OUenJj7L"
      },
      "execution_count": 25,
      "outputs": []
    },
    {
      "cell_type": "code",
      "source": [
        "# Normalisasi nilai kriteria rating\n",
        "normalisasiRating=[]\n",
        "dataRating = data['C2']\n",
        "for i in dataRating:\n",
        "  normalisasiRating.append(i/ratingMax)"
      ],
      "metadata": {
        "id": "QvZBtBkfMuiA"
      },
      "execution_count": 29,
      "outputs": []
    },
    {
      "cell_type": "code",
      "source": [
        "normalisasiJarak"
      ],
      "metadata": {
        "colab": {
          "base_uri": "https://localhost:8080/"
        },
        "id": "Y_sljCQfS0wE",
        "outputId": "b520aec7-8cd7-4747-d1f9-a2c7bdea856a"
      },
      "execution_count": 38,
      "outputs": [
        {
          "output_type": "execute_result",
          "data": {
            "text/plain": [
              "[0.6,\n",
              " 0.03333333333333333,\n",
              " 0.05660377358490566,\n",
              " 1.0,\n",
              " 0.07142857142857142,\n",
              " 0.08108108108108107,\n",
              " 0.03614457831325301,\n",
              " 0.04838709677419355,\n",
              " 0.04285714285714286,\n",
              " 0.10344827586206896]"
            ]
          },
          "metadata": {},
          "execution_count": 38
        }
      ]
    },
    {
      "cell_type": "code",
      "source": [
        "normalisasiRating"
      ],
      "metadata": {
        "colab": {
          "base_uri": "https://localhost:8080/"
        },
        "id": "xbUtOpbgS1AZ",
        "outputId": "d6ba4e42-6193-4711-c254-6527b90e7f3c"
      },
      "execution_count": 39,
      "outputs": [
        {
          "output_type": "execute_result",
          "data": {
            "text/plain": [
              "[0.20833333333333334,\n",
              " 1.0,\n",
              " 0.7708333333333334,\n",
              " 0.47916666666666663,\n",
              " 0.625,\n",
              " 0.6458333333333334,\n",
              " 0.5208333333333334,\n",
              " 0.3541666666666667,\n",
              " 0.375,\n",
              " 0.8541666666666666]"
            ]
          },
          "metadata": {},
          "execution_count": 39
        }
      ]
    },
    {
      "cell_type": "code",
      "source": [
        "nilaiPreverensi = []\n",
        "for i in range(len(normalisasiRating)):\n",
        "    # print(\"ini jarak ke \" , i , \" - \" , normalisasiJarak[i])\n",
        "    # print(\"ini rating ke \" , i , \" - \" , normalisasiRating[i])\n",
        "    nilaiPreverensi.append(normalisasiJarak[i] * bobotJarak + normalisasiRating[i] * bobotRating)"
      ],
      "metadata": {
        "id": "j2vfNGZ0MOt3"
      },
      "execution_count": 49,
      "outputs": []
    },
    {
      "cell_type": "code",
      "source": [
        "nilaiPreverensi"
      ],
      "metadata": {
        "colab": {
          "base_uri": "https://localhost:8080/"
        },
        "id": "mIHDpOTzNIY8",
        "outputId": "c32126eb-6ccd-4e7e-ffab-8e01b48f32e2"
      },
      "execution_count": 50,
      "outputs": [
        {
          "output_type": "execute_result",
          "data": {
            "text/plain": [
              "[0.4041666666666667,\n",
              " 0.5166666666666667,\n",
              " 0.4137185534591195,\n",
              " 0.7395833333333333,\n",
              " 0.3482142857142857,\n",
              " 0.3634572072072072,\n",
              " 0.2784889558232932,\n",
              " 0.20127688172043012,\n",
              " 0.20892857142857144,\n",
              " 0.4788074712643678]"
            ]
          },
          "metadata": {},
          "execution_count": 50
        }
      ]
    },
    {
      "cell_type": "code",
      "source": [
        "alternatif=[]\n",
        "dataAlternatif = data['Alternatif']\n",
        "for i in dataAlternatif:\n",
        "  alternatif.append(i)"
      ],
      "metadata": {
        "id": "q_CrYNLpVHPc"
      },
      "execution_count": 60,
      "outputs": []
    },
    {
      "cell_type": "code",
      "source": [
        "hasilMadm = dict(zip(alternatif, nilaiPreverensi))\n",
        "hasilMadm"
      ],
      "metadata": {
        "colab": {
          "base_uri": "https://localhost:8080/"
        },
        "id": "YXiHfMqJXNS7",
        "outputId": "9d1c51df-826c-452d-fd6b-603a03b3d468"
      },
      "execution_count": 62,
      "outputs": [
        {
          "output_type": "execute_result",
          "data": {
            "text/plain": [
              "{'A1': 0.4041666666666667,\n",
              " 'A10': 0.4788074712643678,\n",
              " 'A2': 0.5166666666666667,\n",
              " 'A3': 0.4137185534591195,\n",
              " 'A4': 0.7395833333333333,\n",
              " 'A5': 0.3482142857142857,\n",
              " 'A6': 0.3634572072072072,\n",
              " 'A7': 0.2784889558232932,\n",
              " 'A8': 0.20127688172043012,\n",
              " 'A9': 0.20892857142857144}"
            ]
          },
          "metadata": {},
          "execution_count": 62
        }
      ]
    },
    {
      "cell_type": "code",
      "source": [
        "urutan = sorted(hasilMadm, key=hasilMadm.get, reverse=True)\n",
        "urutan"
      ],
      "metadata": {
        "colab": {
          "base_uri": "https://localhost:8080/"
        },
        "id": "EAZEUTtOYARX",
        "outputId": "6c34cc54-dd93-4cc4-8a18-06f2e9aaa788"
      },
      "execution_count": 78,
      "outputs": [
        {
          "output_type": "execute_result",
          "data": {
            "text/plain": [
              "['A4', 'A2', 'A10', 'A3', 'A1', 'A6', 'A5', 'A7', 'A9', 'A8']"
            ]
          },
          "metadata": {},
          "execution_count": 78
        }
      ]
    },
    {
      "cell_type": "markdown",
      "source": [
        "##Berdasarkan Jarak"
      ],
      "metadata": {
        "id": "uUeZlDMycDca"
      }
    },
    {
      "cell_type": "code",
      "source": [
        "alternatif=[]\n",
        "dataAlternatif = data['Alternatif']\n",
        "for i in dataAlternatif:\n",
        "  alternatif.append(i)"
      ],
      "metadata": {
        "id": "xQjZbamAcJWK"
      },
      "execution_count": 82,
      "outputs": []
    },
    {
      "cell_type": "code",
      "source": [
        "jarak=[]\n",
        "dataJarak = data['C1']\n",
        "for i in dataJarak:\n",
        "  jarak.append(i)"
      ],
      "metadata": {
        "id": "nHvDvA8zdL8m"
      },
      "execution_count": 83,
      "outputs": []
    },
    {
      "cell_type": "code",
      "source": [
        "hasilJarak = dict(zip(alternatif, jarak))\n",
        "hasilJarak"
      ],
      "metadata": {
        "colab": {
          "base_uri": "https://localhost:8080/"
        },
        "id": "KE0CxjLgdmkG",
        "outputId": "d1e342ae-1d30-4c00-e147-04874a3d79c7"
      },
      "execution_count": 84,
      "outputs": [
        {
          "output_type": "execute_result",
          "data": {
            "text/plain": [
              "{'A1': 0.5,\n",
              " 'A10': 2.9,\n",
              " 'A2': 9.0,\n",
              " 'A3': 5.3,\n",
              " 'A4': 0.3,\n",
              " 'A5': 4.2,\n",
              " 'A6': 3.7,\n",
              " 'A7': 8.3,\n",
              " 'A8': 6.2,\n",
              " 'A9': 7.0}"
            ]
          },
          "metadata": {},
          "execution_count": 84
        }
      ]
    },
    {
      "cell_type": "code",
      "source": [
        "urutan = sorted(hasilJarak, key=hasilJarak.get, reverse=False)\n",
        "urutan"
      ],
      "metadata": {
        "colab": {
          "base_uri": "https://localhost:8080/"
        },
        "id": "tfZ18eh_d2Xb",
        "outputId": "8e5e36f5-be44-4a49-cb80-77f16feda321"
      },
      "execution_count": 85,
      "outputs": [
        {
          "output_type": "execute_result",
          "data": {
            "text/plain": [
              "['A4', 'A1', 'A10', 'A6', 'A5', 'A3', 'A8', 'A9', 'A7', 'A2']"
            ]
          },
          "metadata": {},
          "execution_count": 85
        }
      ]
    },
    {
      "cell_type": "markdown",
      "source": [
        "##Berdasarkan Rating"
      ],
      "metadata": {
        "id": "vGyFLL_bdiIy"
      }
    },
    {
      "cell_type": "code",
      "source": [
        "alternatif=[]\n",
        "dataAlternatif = data['Alternatif']\n",
        "for i in dataAlternatif:\n",
        "  alternatif.append(i)"
      ],
      "metadata": {
        "id": "r2jjQNscdmJy"
      },
      "execution_count": 86,
      "outputs": []
    },
    {
      "cell_type": "code",
      "source": [
        "rating=[]\n",
        "dataRating = data['C2']\n",
        "for i in dataRating:\n",
        "  rating.append(i)"
      ],
      "metadata": {
        "id": "gYpfo1rzeOsz"
      },
      "execution_count": 87,
      "outputs": []
    },
    {
      "cell_type": "code",
      "source": [
        "hasilRating = dict(zip(alternatif, rating))\n",
        "hasilRating"
      ],
      "metadata": {
        "colab": {
          "base_uri": "https://localhost:8080/"
        },
        "id": "by76LyhoeQHv",
        "outputId": "615a4253-a796-4f18-c909-8a867206c87d"
      },
      "execution_count": 88,
      "outputs": [
        {
          "output_type": "execute_result",
          "data": {
            "text/plain": [
              "{'A1': 1.0,\n",
              " 'A10': 4.1,\n",
              " 'A2': 4.8,\n",
              " 'A3': 3.7,\n",
              " 'A4': 2.3,\n",
              " 'A5': 3.0,\n",
              " 'A6': 3.1,\n",
              " 'A7': 2.5,\n",
              " 'A8': 1.7,\n",
              " 'A9': 1.8}"
            ]
          },
          "metadata": {},
          "execution_count": 88
        }
      ]
    },
    {
      "cell_type": "code",
      "source": [
        "urutan = sorted(hasilRating, key=hasilRating.get, reverse=True)\n",
        "urutan"
      ],
      "metadata": {
        "colab": {
          "base_uri": "https://localhost:8080/"
        },
        "id": "wQGO1XhzeQwG",
        "outputId": "ca5f19a6-636e-4f5c-cc2c-1cc2113e1929"
      },
      "execution_count": 90,
      "outputs": [
        {
          "output_type": "execute_result",
          "data": {
            "text/plain": [
              "['A2', 'A10', 'A3', 'A6', 'A5', 'A7', 'A4', 'A9', 'A8', 'A1']"
            ]
          },
          "metadata": {},
          "execution_count": 90
        }
      ]
    }
  ]
}