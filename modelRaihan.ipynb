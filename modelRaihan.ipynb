{
 "cells": [
  {
   "cell_type": "markdown",
   "metadata": {
    "id": "GUmiJOCLIRHl"
   },
   "source": [
    "#Preprocesing dataset"
   ]
  },
  {
   "cell_type": "code",
   "execution_count": 2,
   "metadata": {
    "colab": {
     "base_uri": "https://localhost:8080/"
    },
    "id": "I2YxFTvkrjLt",
    "outputId": "1d206175-c360-4fc1-c875-66b8e631f39f"
   },
   "outputs": [
    {
     "name": "stdout",
     "output_type": "stream",
     "text": [
      "Collecting XlsxWriter\n",
      "  Downloading XlsxWriter-3.0.3-py3-none-any.whl (149 kB)\n",
      "\u001b[?25l\r",
      "\u001b[K     |██▏                             | 10 kB 21.9 MB/s eta 0:00:01\r",
      "\u001b[K     |████▍                           | 20 kB 26.5 MB/s eta 0:00:01\r",
      "\u001b[K     |██████▌                         | 30 kB 31.4 MB/s eta 0:00:01\r",
      "\u001b[K     |████████▊                       | 40 kB 16.3 MB/s eta 0:00:01\r",
      "\u001b[K     |███████████                     | 51 kB 12.8 MB/s eta 0:00:01\r",
      "\u001b[K     |█████████████                   | 61 kB 14.7 MB/s eta 0:00:01\r",
      "\u001b[K     |███████████████▎                | 71 kB 12.6 MB/s eta 0:00:01\r",
      "\u001b[K     |█████████████████▌              | 81 kB 13.8 MB/s eta 0:00:01\r",
      "\u001b[K     |███████████████████▋            | 92 kB 14.9 MB/s eta 0:00:01\r",
      "\u001b[K     |█████████████████████▉          | 102 kB 13.1 MB/s eta 0:00:01\r",
      "\u001b[K     |████████████████████████        | 112 kB 13.1 MB/s eta 0:00:01\r",
      "\u001b[K     |██████████████████████████▏     | 122 kB 13.1 MB/s eta 0:00:01\r",
      "\u001b[K     |████████████████████████████▍   | 133 kB 13.1 MB/s eta 0:00:01\r",
      "\u001b[K     |██████████████████████████████▋ | 143 kB 13.1 MB/s eta 0:00:01\r",
      "\u001b[K     |████████████████████████████████| 149 kB 13.1 MB/s \n",
      "\u001b[?25hInstalling collected packages: XlsxWriter\n",
      "Successfully installed XlsxWriter-3.0.3\n"
     ]
    }
   ],
   "source": [
    "!pip install XlsxWriter"
   ]
  },
  {
   "cell_type": "code",
   "execution_count": 97,
   "metadata": {
    "id": "BZSunEIOV_FI"
   },
   "outputs": [],
   "source": [
    "import numpy as np \n",
    "import matplotlib.pyplot as plt\n",
    "import re\n",
    "import tensorflow as tf\n",
    "from keras import initializers\n",
    "from tensorflow.keras.models import Sequential\n",
    "from tensorflow.keras.utils import to_categorical \n",
    "from tensorflow.keras.preprocessing.text import Tokenizer\n",
    "from tensorflow.keras.preprocessing.sequence import pad_sequences\n",
    "from tensorflow.keras.layers import Embedding, LSTM, Dense, Bidirectional\n",
    "import seaborn as sns\n",
    "from sklearn.metrics import confusion_matrix\n",
    "from sklearn.metrics import accuracy_score, precision_score, recall_score\n",
    "import xlsxwriter\n",
    "from nltk import word_tokenize, sent_tokenize\n",
    "from nltk.corpus import stopwords\n",
    "import string\n",
    "import unicodedata\n",
    "import nltk\n",
    "from keras.layers import Dense, Embedding, Dropout, LSTM, Bidirectional\n",
    "import pandas as pd"
   ]
  },
  {
   "cell_type": "code",
   "execution_count": 4,
   "metadata": {
    "id": "BbZJ7D4glUzO"
   },
   "outputs": [],
   "source": [
    "alay_dict = pd.read_csv('data/slang_word_list.csv', encoding='latin-1', header=None)\n",
    "alay_dict = alay_dict.rename(columns={0: 'original', \n",
    "                                      1: 'replacement'})"
   ]
  },
  {
   "cell_type": "code",
   "execution_count": 5,
   "metadata": {
    "id": "DisAwwNia7Do"
   },
   "outputs": [],
   "source": [
    "def remove_url(str):\n",
    "    str = re.sub(r'(?i)\\b((?:https?://|www\\d{0,3}[.]|[a-z0-9.\\-]+[.][a-z]{2,4}/)(?:[^\\s()<>]+|\\(([^\\s()<>]+|(\\([^\\s()<>]+\\)))*\\))+(?:\\(([^\\s()<>]+|(\\([^\\s()<>]+\\)))*\\)|[^\\s`!()\\[\\]{};:\\'\".,<>?«»“”‘’]))', '', str)\n",
    "    return str\n",
    "    \n",
    "def remove_digit(str):\n",
    "    str = re.sub(r'[^a-z ]*([.0-9])*\\d', ' ', str)\n",
    "    return str \n",
    "\n",
    "def remove_non_ascii(str):\n",
    "    str = unicodedata.normalize('NFKD', str).encode('ascii', 'ignore').decode('utf-8', 'ignore')\n",
    "    return str\n",
    "\n",
    "def remove_twitter_char(str):  \n",
    "    # mention\n",
    "    str = re.sub(r'(?:@[\\w_]+)', ' ', str)\n",
    "    # hashtag\n",
    "    str = re.sub(r\"(?:\\#+[\\w_]+[\\w\\'_\\-]*[\\w_]+)\", \" \", str)\n",
    "    # RT/cc\n",
    "    str = re.sub('RT', ' ', str)\n",
    "\n",
    "    return str\n",
    "\n",
    "def remove_punctuation(str):\n",
    "    str = re.sub(r'[^\\s\\w]', ' ', str)\n",
    "    return str\n",
    "\n",
    "def remove_multi_space(str):\n",
    "    str = re.sub('[\\s]+', ' ', str)\n",
    "    return str\n",
    "\n",
    "def casefolding(str):  \n",
    "    str = str.lower()   \n",
    "    return ' '.join(str.split())\n",
    "\n",
    "def remove_repeated_character(str):\n",
    "    str = re.sub(r'(.)\\1{2,}', r'\\1', str)\n",
    "    return str\n",
    "\n",
    "# def normalize_slang_word(str):\n",
    "#     text_list = str.split(' ')\n",
    "#     slang_words_raw = pd.read_csv('data/slang_word_list.csv', sep=\",\" , header=None)\n",
    "#     slang_word_dict = {}\n",
    "\n",
    "#     for item in slang_words_raw.values:\n",
    "#         slang_word_dict[item[0]] = item[1]\n",
    "\n",
    "#         for index in range(len(text_list)):\n",
    "#             if text_list[index] in slang_word_dict.keys():\n",
    "#                 text_list[index] = slang_word_dict[text_list[index]]\n",
    "\n",
    "#     return ' '.join(text_list)\n",
    "\n",
    "\n",
    "def normalize_slang_word(str):\n",
    "    alay_dict = pd.read_csv('data/slang_word_list.csv', encoding='latin-1', header=None)\n",
    "    alay_dict = alay_dict.rename(columns={0: 'original', 1: 'replacement'})\n",
    "    alay_dict_map = dict(zip(alay_dict['original'], alay_dict['replacement']))\n",
    "    return ' '.join([alay_dict_map[word] if word in alay_dict_map else word for word in str.split(' ')])\n",
    "\n",
    "# def remove_stopword(str):\n",
    "#     id_stopword_dict = pd.read_csv('data/stopwordbahasa.csv', header=None)\n",
    "#     id_stopword_dict = id_stopword_dict.rename(columns={0: 'stopword'})\n",
    "#     str = ' '.join(['' if word in id_stopword_dict.stopword.values else word for word in str.split(' ')])\n",
    "#     str = re.sub('  +', ' ', str)\n",
    "#     str = str.strip()\n",
    "#     return str\n",
    "\n",
    "def remove_laugh(str):\n",
    "    str = re.sub(r\"\\b(?:(h|a|e)*(?:(ha|he|hue))+h?|(?:l+o+)+l+)|(?:(w|k)*(?:wk)+(w?|k?))\\b\", ' ', str)\n",
    "    \n",
    "    return str\n",
    "\n",
    "def remove_unused_char(str):\n",
    "    tmp = \"\"    \n",
    "    if len(str) < 3:\n",
    "        tmp\n",
    "    else:\n",
    "        tmp = str\n",
    "        \n",
    "    return tmp"
   ]
  },
  {
   "cell_type": "code",
   "execution_count": 6,
   "metadata": {
    "id": "BVdi6kg4KAzH"
   },
   "outputs": [],
   "source": [
    "def preprocessing(str):\n",
    "    str = remove_url(str)\n",
    "    str = remove_twitter_char(str)\n",
    "    str = remove_digit(str)\n",
    "    str = remove_non_ascii(str)\n",
    "    str = remove_punctuation(str)\n",
    "    str = remove_laugh(str)\n",
    "    str = remove_multi_space(str) \n",
    "    str = remove_repeated_character(str)    \n",
    "    str = casefolding(str)\n",
    "    str = normalize_slang_word(str)\n",
    "    # str = remove_stopword(str)\n",
    "    str = remove_unused_char(str)\n",
    "    \n",
    "    return str"
   ]
  },
  {
   "cell_type": "code",
   "execution_count": 7,
   "metadata": {
    "colab": {
     "base_uri": "https://localhost:8080/",
     "height": 35
    },
    "id": "jBW_xa0ERoIz",
    "outputId": "f7f3729e-117f-42cd-cd8a-72955ebc0b77"
   },
   "outputs": [
    {
     "data": {
      "application/vnd.google.colaboratory.intrinsic+json": {
       "type": "string"
      },
      "text/plain": [
       "'x episode ini ada yang bakal cerita tentang pengalaman ngerinya nih simak gue menyesal setelah terjatuh'"
      ]
     },
     "execution_count": 7,
     "metadata": {},
     "output_type": "execute_result"
    }
   ],
   "source": [
    "kalimat = \"@sabistriming: 3x Episode ini ada @frizareihan yang bakal cerita tentang pengalaman ngerinya nih! Simaaaaak! Gw menyesal setelah terjatuh https://t.co/bLhzV4Tqdl .. \\xf0\\x9f\\x91\\x8d\"\n",
    "preprocessing(kalimat)"
   ]
  },
  {
   "cell_type": "code",
   "execution_count": 8,
   "metadata": {
    "id": "RN12EybPn715"
   },
   "outputs": [],
   "source": [
    "# data1 = pd.read_csv('dataset/train_preprocess1.csv', on_bad_lines='skip', encoding='latin-1')\n",
    "data1 = pd.read_excel(\"dataset/train_preprocess1.xlsx\")\n",
    "# print(data1)\n",
    "# data1['sentence'] = data1['sentence'].apply(preprocessing)\n",
    "\n",
    "sentence = data1['sentence']\n",
    "label = data1['label']\n",
    "\n",
    "workbook = xlsxwriter.Workbook('dataset_clean/train_preprocess.xlsx')\n",
    "worksheet = workbook.add_worksheet()\n",
    "\n",
    "row = 0\n",
    "col = 0\n",
    "\n",
    "rowHeaders = ['sentence', 'label']\n",
    "worksheet.write_row(row, col,  tuple(rowHeaders))\n",
    "\n",
    "for i in sentence:\n",
    "    sentence = preprocessing(i)\n",
    "    rowValues = [sentence]\n",
    "    row += 1\n",
    "    worksheet.write_row(row, col, tuple(rowValues))\n",
    "\n",
    "row = 0\n",
    "for l in label:\n",
    "    label = l\n",
    "    rowValues = [label]\n",
    "    row += 1 \n",
    "    worksheet.write_row(row, col + 1, tuple(rowValues))\n",
    "\n",
    "workbook.close()\n",
    "\n",
    "# data3 = pd.read_csv(\"dataset/test_preprocess_masked_label.csv\", on_bad_lines='skip', encoding='latin-1')\n",
    "# data3['sentence'] = data3['sentence'].apply(preprocessing)"
   ]
  },
  {
   "cell_type": "code",
   "execution_count": 9,
   "metadata": {
    "id": "MRHAXq4ZgYoc"
   },
   "outputs": [],
   "source": [
    "data2 = pd.read_excel(\"dataset/valid_preprocess1.xlsx\")\n",
    "\n",
    "sentence = data2['sentence']\n",
    "label = data2['label']\n",
    "\n",
    "workbook = xlsxwriter.Workbook('dataset_clean/valid_preprocess.xlsx')\n",
    "worksheet = workbook.add_worksheet()\n",
    "\n",
    "row = 0\n",
    "col = 0\n",
    "\n",
    "rowHeaders = ['sentence', 'label']\n",
    "worksheet.write_row(row, col,  tuple(rowHeaders))\n",
    "\n",
    "for i in sentence:\n",
    "    sentence = preprocessing(i)\n",
    "    rowValues = [sentence]\n",
    "    row += 1\n",
    "    worksheet.write_row(row, col, tuple(rowValues))\n",
    "\n",
    "row = 0\n",
    "for l in label:\n",
    "    label = l\n",
    "    rowValues = [label]\n",
    "    row += 1 \n",
    "    worksheet.write_row(row, col + 1, tuple(rowValues))\n",
    "\n",
    "workbook.close()"
   ]
  },
  {
   "cell_type": "code",
   "execution_count": 11,
   "metadata": {
    "id": "MFiGTRd1IiF1"
   },
   "outputs": [],
   "source": [
    "data3 = pd.read_excel(\"dataset/test_preprocess_masked_label1.xlsx\")\n",
    "\n",
    "sentence = data3['sentence']\n",
    "label = data3['label']\n",
    "\n",
    "workbook = xlsxwriter.Workbook('dataset_clean/test_preprocess_masked_label.xlsx')\n",
    "worksheet = workbook.add_worksheet()\n",
    "\n",
    "row = 0\n",
    "col = 0\n",
    "\n",
    "rowHeaders = ['sentence', 'label']\n",
    "worksheet.write_row(row, col,  tuple(rowHeaders))\n",
    "\n",
    "for i in sentence:\n",
    "    sentence = preprocessing(i)\n",
    "    rowValues = [sentence]\n",
    "    row += 1\n",
    "    worksheet.write_row(row, col, tuple(rowValues))\n",
    "\n",
    "row = 0\n",
    "for l in label:\n",
    "    label = l\n",
    "    rowValues = [label]\n",
    "    row += 1 \n",
    "    worksheet.write_row(row, col + 1, tuple(rowValues))\n",
    "\n",
    "workbook.close()"
   ]
  },
  {
   "cell_type": "code",
   "execution_count": 17,
   "metadata": {
    "colab": {
     "base_uri": "https://localhost:8080/"
    },
    "id": "FMTNvEsAUsoz",
    "outputId": "f6fa602b-b096-474f-8c81-a53a21a61ab5"
   },
   "outputs": [
    {
     "name": "stdout",
     "output_type": "stream",
     "text": [
      "                                              sentence  label\n",
      "0    kemarin gue datang ke tempat makan baru yang a...      0\n",
      "1    kayak nya sih gue tidak akan mau balik lagi ke...      0\n",
      "2    kalau dipikir pikir sebenarnya tidak ada yang ...      0\n",
      "3    ini pertama kalinya gue ke bank buat mengurus ...      0\n",
      "4    waktu sampai dengan gue pernah disuruh ibu lat...      0\n",
      "..                                                 ...    ...\n",
      "495  kata nya tidur yang baik itu minimal enam jam ...      0\n",
      "496                    indonesia itu ada di benua asia      0\n",
      "497  salah satu kegemaran anak remaja indonesia sek...      0\n",
      "498  melihat warna hijau bisa bikin mata jadi lebih...      0\n",
      "499  bondan winarno yang suka bilang maknyus sekara...      0\n",
      "\n",
      "[500 rows x 2 columns]\n"
     ]
    }
   ],
   "source": [
    "read_file = pd.read_excel (\"dataset_clean/test_preprocess_masked_label.xlsx\")\n",
    "read_file.to_csv (\"dataset_clean/test_preprocess_masked_label.csv\", index = None, header=True)\n",
    "\n",
    "readF = pd.read_csv(\"dataset_clean/test_preprocess_masked_label.csv\", on_bad_lines='skip', encoding='latin-1')\n",
    "print(readF)"
   ]
  },
  {
   "cell_type": "code",
   "execution_count": 18,
   "metadata": {
    "colab": {
     "base_uri": "https://localhost:8080/"
    },
    "id": "G9P9m4C-Usxi",
    "outputId": "d19e755f-d029-4ced-dd1b-ebeb11247492"
   },
   "outputs": [
    {
     "name": "stdout",
     "output_type": "stream",
     "text": [
      "                                                sentence  label\n",
      "0      warung ini dimiliki oleh pengusaha pabrik tahu...      1\n",
      "1      mohon ulama lurus dan k mmbri hujjah partai ap...      0\n",
      "2      lokasi strategis di jalan sumatra bandung temp...      1\n",
      "3      betapa bahagia nya diri ini saat unboxing pake...      1\n",
      "4      aduh jadi mahasiswa jangan sombong dong kasih ...     -1\n",
      "...                                                  ...    ...\n",
      "10992                                       tidak kecewa      1\n",
      "10993  enak rasa masakan nya apalagi kepiting yang me...      1\n",
      "10994        hormati partai partai yang telah berkoalisi      0\n",
      "10995  pagi pagi di tol pasteur sudah macet parah bik...     -1\n",
      "10996  meskipun sering belanja ke yogyakarta di riau ...      1\n",
      "\n",
      "[10997 rows x 2 columns]\n"
     ]
    }
   ],
   "source": [
    "read_file = pd.read_excel (\"dataset_clean/train_preprocess.xlsx\")\n",
    "read_file.to_csv (\"dataset_clean/train_preprocess1.csv\", index = None, header=True)\n",
    "\n",
    "readF = pd.read_csv(\"dataset_clean/train_preprocess1.csv\", on_bad_lines='skip', encoding='latin-1')\n",
    "print(readF)"
   ]
  },
  {
   "cell_type": "code",
   "execution_count": 19,
   "metadata": {
    "colab": {
     "base_uri": "https://localhost:8080/"
    },
    "id": "0SA70c14Us5u",
    "outputId": "d4b400c3-aa79-4bc1-c175-2f4edd1d5759"
   },
   "outputs": [
    {
     "name": "stdout",
     "output_type": "stream",
     "text": [
      "                                               sentence  label\n",
      "0     meski masa kampanye sudah selesai bukan berart...      0\n",
      "1                                            tidak enak     -1\n",
      "2     restoran ini menawarkan makanan sunda kami mem...      1\n",
      "3     lokasi di alun alun masakan padang ini cukup t...      1\n",
      "4     betapa bejat kader gerindra yang anggota dewan...     -1\n",
      "...                                                 ...    ...\n",
      "1255  film tncfu tidak cocok untuk penonton yang tid...     -1\n",
      "1256  indihome ini mahal lah bayar nya nya penangana...     -1\n",
      "1257  be deh gea cowok cupu yang takut dengan pacar ...     -1\n",
      "1258  valen yang sangat tidak berkualitas konentator...     -1\n",
      "1259  restoran ini menjadi tempat pilihan saya berbu...      1\n",
      "\n",
      "[1260 rows x 2 columns]\n"
     ]
    }
   ],
   "source": [
    "read_file = pd.read_excel (\"dataset_clean/valid_preprocess.xlsx\")\n",
    "read_file.to_csv (\"dataset_clean/valid_preprocess1.csv\", index = None, header=True)\n",
    "\n",
    "readF = pd.read_csv(\"dataset_clean/valid_preprocess1.csv\", on_bad_lines='skip', encoding='latin-1')\n",
    "print(readF)"
   ]
  },
  {
   "cell_type": "markdown",
   "metadata": {
    "id": "5QpoTaKYIysz"
   },
   "source": [
    "#Train Model"
   ]
  },
  {
   "cell_type": "code",
   "execution_count": 27,
   "metadata": {
    "colab": {
     "base_uri": "https://localhost:8080/",
     "height": 206
    },
    "id": "r-rZDw2SKTDH",
    "outputId": "c1e79d7b-d41f-4866-9196-127d19cf64cf"
   },
   "outputs": [
    {
     "data": {
      "text/html": [
       "\n",
       "  <div id=\"df-cadb2082-ad7c-4429-a5e3-9de91bbd5780\">\n",
       "    <div class=\"colab-df-container\">\n",
       "      <div>\n",
       "<style scoped>\n",
       "    .dataframe tbody tr th:only-of-type {\n",
       "        vertical-align: middle;\n",
       "    }\n",
       "\n",
       "    .dataframe tbody tr th {\n",
       "        vertical-align: top;\n",
       "    }\n",
       "\n",
       "    .dataframe thead th {\n",
       "        text-align: right;\n",
       "    }\n",
       "</style>\n",
       "<table border=\"1\" class=\"dataframe\">\n",
       "  <thead>\n",
       "    <tr style=\"text-align: right;\">\n",
       "      <th></th>\n",
       "      <th>sentence</th>\n",
       "      <th>label</th>\n",
       "    </tr>\n",
       "  </thead>\n",
       "  <tbody>\n",
       "    <tr>\n",
       "      <th>0</th>\n",
       "      <td>warung ini dimiliki oleh pengusaha pabrik tahu...</td>\n",
       "      <td>1</td>\n",
       "    </tr>\n",
       "    <tr>\n",
       "      <th>1</th>\n",
       "      <td>mohon ulama lurus dan k mmbri hujjah partai ap...</td>\n",
       "      <td>0</td>\n",
       "    </tr>\n",
       "    <tr>\n",
       "      <th>2</th>\n",
       "      <td>lokasi strategis di jalan sumatra bandung temp...</td>\n",
       "      <td>1</td>\n",
       "    </tr>\n",
       "    <tr>\n",
       "      <th>3</th>\n",
       "      <td>betapa bahagia nya diri ini saat unboxing pake...</td>\n",
       "      <td>1</td>\n",
       "    </tr>\n",
       "    <tr>\n",
       "      <th>4</th>\n",
       "      <td>aduh jadi mahasiswa jangan sombong dong kasih ...</td>\n",
       "      <td>-1</td>\n",
       "    </tr>\n",
       "  </tbody>\n",
       "</table>\n",
       "</div>\n",
       "      <button class=\"colab-df-convert\" onclick=\"convertToInteractive('df-cadb2082-ad7c-4429-a5e3-9de91bbd5780')\"\n",
       "              title=\"Convert this dataframe to an interactive table.\"\n",
       "              style=\"display:none;\">\n",
       "        \n",
       "  <svg xmlns=\"http://www.w3.org/2000/svg\" height=\"24px\"viewBox=\"0 0 24 24\"\n",
       "       width=\"24px\">\n",
       "    <path d=\"M0 0h24v24H0V0z\" fill=\"none\"/>\n",
       "    <path d=\"M18.56 5.44l.94 2.06.94-2.06 2.06-.94-2.06-.94-.94-2.06-.94 2.06-2.06.94zm-11 1L8.5 8.5l.94-2.06 2.06-.94-2.06-.94L8.5 2.5l-.94 2.06-2.06.94zm10 10l.94 2.06.94-2.06 2.06-.94-2.06-.94-.94-2.06-.94 2.06-2.06.94z\"/><path d=\"M17.41 7.96l-1.37-1.37c-.4-.4-.92-.59-1.43-.59-.52 0-1.04.2-1.43.59L10.3 9.45l-7.72 7.72c-.78.78-.78 2.05 0 2.83L4 21.41c.39.39.9.59 1.41.59.51 0 1.02-.2 1.41-.59l7.78-7.78 2.81-2.81c.8-.78.8-2.07 0-2.86zM5.41 20L4 18.59l7.72-7.72 1.47 1.35L5.41 20z\"/>\n",
       "  </svg>\n",
       "      </button>\n",
       "      \n",
       "  <style>\n",
       "    .colab-df-container {\n",
       "      display:flex;\n",
       "      flex-wrap:wrap;\n",
       "      gap: 12px;\n",
       "    }\n",
       "\n",
       "    .colab-df-convert {\n",
       "      background-color: #E8F0FE;\n",
       "      border: none;\n",
       "      border-radius: 50%;\n",
       "      cursor: pointer;\n",
       "      display: none;\n",
       "      fill: #1967D2;\n",
       "      height: 32px;\n",
       "      padding: 0 0 0 0;\n",
       "      width: 32px;\n",
       "    }\n",
       "\n",
       "    .colab-df-convert:hover {\n",
       "      background-color: #E2EBFA;\n",
       "      box-shadow: 0px 1px 2px rgba(60, 64, 67, 0.3), 0px 1px 3px 1px rgba(60, 64, 67, 0.15);\n",
       "      fill: #174EA6;\n",
       "    }\n",
       "\n",
       "    [theme=dark] .colab-df-convert {\n",
       "      background-color: #3B4455;\n",
       "      fill: #D2E3FC;\n",
       "    }\n",
       "\n",
       "    [theme=dark] .colab-df-convert:hover {\n",
       "      background-color: #434B5C;\n",
       "      box-shadow: 0px 1px 3px 1px rgba(0, 0, 0, 0.15);\n",
       "      filter: drop-shadow(0px 1px 2px rgba(0, 0, 0, 0.3));\n",
       "      fill: #FFFFFF;\n",
       "    }\n",
       "  </style>\n",
       "\n",
       "      <script>\n",
       "        const buttonEl =\n",
       "          document.querySelector('#df-cadb2082-ad7c-4429-a5e3-9de91bbd5780 button.colab-df-convert');\n",
       "        buttonEl.style.display =\n",
       "          google.colab.kernel.accessAllowed ? 'block' : 'none';\n",
       "\n",
       "        async function convertToInteractive(key) {\n",
       "          const element = document.querySelector('#df-cadb2082-ad7c-4429-a5e3-9de91bbd5780');\n",
       "          const dataTable =\n",
       "            await google.colab.kernel.invokeFunction('convertToInteractive',\n",
       "                                                     [key], {});\n",
       "          if (!dataTable) return;\n",
       "\n",
       "          const docLinkHtml = 'Like what you see? Visit the ' +\n",
       "            '<a target=\"_blank\" href=https://colab.research.google.com/notebooks/data_table.ipynb>data table notebook</a>'\n",
       "            + ' to learn more about interactive tables.';\n",
       "          element.innerHTML = '';\n",
       "          dataTable['output_type'] = 'display_data';\n",
       "          await google.colab.output.renderOutput(dataTable, element);\n",
       "          const docLink = document.createElement('div');\n",
       "          docLink.innerHTML = docLinkHtml;\n",
       "          element.appendChild(docLink);\n",
       "        }\n",
       "      </script>\n",
       "    </div>\n",
       "  </div>\n",
       "  "
      ],
      "text/plain": [
       "                                            sentence  label\n",
       "0  warung ini dimiliki oleh pengusaha pabrik tahu...      1\n",
       "1  mohon ulama lurus dan k mmbri hujjah partai ap...      0\n",
       "2  lokasi strategis di jalan sumatra bandung temp...      1\n",
       "3  betapa bahagia nya diri ini saat unboxing pake...      1\n",
       "4  aduh jadi mahasiswa jangan sombong dong kasih ...     -1"
      ]
     },
     "execution_count": 27,
     "metadata": {},
     "output_type": "execute_result"
    }
   ],
   "source": [
    "data_train = pd.read_csv(\"dataset_clean/train_preprocess1.csv\", on_bad_lines='skip', encoding='latin-1')\n",
    "data_train.head()"
   ]
  },
  {
   "cell_type": "code",
   "execution_count": 28,
   "metadata": {
    "colab": {
     "base_uri": "https://localhost:8080/",
     "height": 206
    },
    "id": "JdZnOuqhilNl",
    "outputId": "3173ff24-19d1-4f1e-d872-8e8a1a058d15"
   },
   "outputs": [
    {
     "data": {
      "text/html": [
       "\n",
       "  <div id=\"df-7ab6d15d-f118-4acd-99ae-98640e30c38d\">\n",
       "    <div class=\"colab-df-container\">\n",
       "      <div>\n",
       "<style scoped>\n",
       "    .dataframe tbody tr th:only-of-type {\n",
       "        vertical-align: middle;\n",
       "    }\n",
       "\n",
       "    .dataframe tbody tr th {\n",
       "        vertical-align: top;\n",
       "    }\n",
       "\n",
       "    .dataframe thead th {\n",
       "        text-align: right;\n",
       "    }\n",
       "</style>\n",
       "<table border=\"1\" class=\"dataframe\">\n",
       "  <thead>\n",
       "    <tr style=\"text-align: right;\">\n",
       "      <th></th>\n",
       "      <th>sentence</th>\n",
       "      <th>label</th>\n",
       "    </tr>\n",
       "  </thead>\n",
       "  <tbody>\n",
       "    <tr>\n",
       "      <th>0</th>\n",
       "      <td>kemarin gue datang ke tempat makan baru yang a...</td>\n",
       "      <td>0</td>\n",
       "    </tr>\n",
       "    <tr>\n",
       "      <th>1</th>\n",
       "      <td>kayak nya sih gue tidak akan mau balik lagi ke...</td>\n",
       "      <td>0</td>\n",
       "    </tr>\n",
       "    <tr>\n",
       "      <th>2</th>\n",
       "      <td>kalau dipikir pikir sebenarnya tidak ada yang ...</td>\n",
       "      <td>0</td>\n",
       "    </tr>\n",
       "    <tr>\n",
       "      <th>3</th>\n",
       "      <td>ini pertama kalinya gue ke bank buat mengurus ...</td>\n",
       "      <td>0</td>\n",
       "    </tr>\n",
       "    <tr>\n",
       "      <th>4</th>\n",
       "      <td>waktu sampai dengan gue pernah disuruh ibu lat...</td>\n",
       "      <td>0</td>\n",
       "    </tr>\n",
       "  </tbody>\n",
       "</table>\n",
       "</div>\n",
       "      <button class=\"colab-df-convert\" onclick=\"convertToInteractive('df-7ab6d15d-f118-4acd-99ae-98640e30c38d')\"\n",
       "              title=\"Convert this dataframe to an interactive table.\"\n",
       "              style=\"display:none;\">\n",
       "        \n",
       "  <svg xmlns=\"http://www.w3.org/2000/svg\" height=\"24px\"viewBox=\"0 0 24 24\"\n",
       "       width=\"24px\">\n",
       "    <path d=\"M0 0h24v24H0V0z\" fill=\"none\"/>\n",
       "    <path d=\"M18.56 5.44l.94 2.06.94-2.06 2.06-.94-2.06-.94-.94-2.06-.94 2.06-2.06.94zm-11 1L8.5 8.5l.94-2.06 2.06-.94-2.06-.94L8.5 2.5l-.94 2.06-2.06.94zm10 10l.94 2.06.94-2.06 2.06-.94-2.06-.94-.94-2.06-.94 2.06-2.06.94z\"/><path d=\"M17.41 7.96l-1.37-1.37c-.4-.4-.92-.59-1.43-.59-.52 0-1.04.2-1.43.59L10.3 9.45l-7.72 7.72c-.78.78-.78 2.05 0 2.83L4 21.41c.39.39.9.59 1.41.59.51 0 1.02-.2 1.41-.59l7.78-7.78 2.81-2.81c.8-.78.8-2.07 0-2.86zM5.41 20L4 18.59l7.72-7.72 1.47 1.35L5.41 20z\"/>\n",
       "  </svg>\n",
       "      </button>\n",
       "      \n",
       "  <style>\n",
       "    .colab-df-container {\n",
       "      display:flex;\n",
       "      flex-wrap:wrap;\n",
       "      gap: 12px;\n",
       "    }\n",
       "\n",
       "    .colab-df-convert {\n",
       "      background-color: #E8F0FE;\n",
       "      border: none;\n",
       "      border-radius: 50%;\n",
       "      cursor: pointer;\n",
       "      display: none;\n",
       "      fill: #1967D2;\n",
       "      height: 32px;\n",
       "      padding: 0 0 0 0;\n",
       "      width: 32px;\n",
       "    }\n",
       "\n",
       "    .colab-df-convert:hover {\n",
       "      background-color: #E2EBFA;\n",
       "      box-shadow: 0px 1px 2px rgba(60, 64, 67, 0.3), 0px 1px 3px 1px rgba(60, 64, 67, 0.15);\n",
       "      fill: #174EA6;\n",
       "    }\n",
       "\n",
       "    [theme=dark] .colab-df-convert {\n",
       "      background-color: #3B4455;\n",
       "      fill: #D2E3FC;\n",
       "    }\n",
       "\n",
       "    [theme=dark] .colab-df-convert:hover {\n",
       "      background-color: #434B5C;\n",
       "      box-shadow: 0px 1px 3px 1px rgba(0, 0, 0, 0.15);\n",
       "      filter: drop-shadow(0px 1px 2px rgba(0, 0, 0, 0.3));\n",
       "      fill: #FFFFFF;\n",
       "    }\n",
       "  </style>\n",
       "\n",
       "      <script>\n",
       "        const buttonEl =\n",
       "          document.querySelector('#df-7ab6d15d-f118-4acd-99ae-98640e30c38d button.colab-df-convert');\n",
       "        buttonEl.style.display =\n",
       "          google.colab.kernel.accessAllowed ? 'block' : 'none';\n",
       "\n",
       "        async function convertToInteractive(key) {\n",
       "          const element = document.querySelector('#df-7ab6d15d-f118-4acd-99ae-98640e30c38d');\n",
       "          const dataTable =\n",
       "            await google.colab.kernel.invokeFunction('convertToInteractive',\n",
       "                                                     [key], {});\n",
       "          if (!dataTable) return;\n",
       "\n",
       "          const docLinkHtml = 'Like what you see? Visit the ' +\n",
       "            '<a target=\"_blank\" href=https://colab.research.google.com/notebooks/data_table.ipynb>data table notebook</a>'\n",
       "            + ' to learn more about interactive tables.';\n",
       "          element.innerHTML = '';\n",
       "          dataTable['output_type'] = 'display_data';\n",
       "          await google.colab.output.renderOutput(dataTable, element);\n",
       "          const docLink = document.createElement('div');\n",
       "          docLink.innerHTML = docLinkHtml;\n",
       "          element.appendChild(docLink);\n",
       "        }\n",
       "      </script>\n",
       "    </div>\n",
       "  </div>\n",
       "  "
      ],
      "text/plain": [
       "                                            sentence  label\n",
       "0  kemarin gue datang ke tempat makan baru yang a...      0\n",
       "1  kayak nya sih gue tidak akan mau balik lagi ke...      0\n",
       "2  kalau dipikir pikir sebenarnya tidak ada yang ...      0\n",
       "3  ini pertama kalinya gue ke bank buat mengurus ...      0\n",
       "4  waktu sampai dengan gue pernah disuruh ibu lat...      0"
      ]
     },
     "execution_count": 28,
     "metadata": {},
     "output_type": "execute_result"
    }
   ],
   "source": [
    "data_test = pd.read_csv(\"dataset_clean/test_preprocess_masked_label.csv\", on_bad_lines='skip', encoding='latin-1')\n",
    "data_test.head()"
   ]
  },
  {
   "cell_type": "code",
   "execution_count": 34,
   "metadata": {
    "id": "OpYqFCW0kQvH"
   },
   "outputs": [],
   "source": [
    "sentence_train = data_train.loc[:,'sentence']\n",
    "training_sentences = sentence_train.values.tolist()\n",
    "\n",
    "label_train = data_train.loc[:,'label']\n",
    "training_label = label_train.values.tolist()\n",
    "\n",
    "sentence_test = data_test.loc[:,'sentence']\n",
    "test_sentences = sentence_train.values.tolist()\n",
    "\n",
    "label_test = data_test.loc[:,'label']\n",
    "test_label = label_test.values.tolist()"
   ]
  },
  {
   "cell_type": "code",
   "execution_count": 71,
   "metadata": {
    "colab": {
     "base_uri": "https://localhost:8080/"
    },
    "id": "2vX4s6JX2Fv0",
    "outputId": "74e3a525-d011-45b7-cc53-2f00ba6f1379"
   },
   "outputs": [
    {
     "name": "stdout",
     "output_type": "stream",
     "text": [
      "85\n"
     ]
    }
   ],
   "source": [
    "maxlen = max([len(i.split()) for i in sentence_train])\n",
    "print(maxlen)"
   ]
  },
  {
   "cell_type": "code",
   "execution_count": 75,
   "metadata": {
    "id": "VNg5mWuLnwQK"
   },
   "outputs": [],
   "source": [
    "def fit_tokenizer(training_sentences):\n",
    "        \n",
    "    # Instantiate the Tokenizer class, passing in the correct values for num_words and oov_token\n",
    "    tokenizer = Tokenizer(num_words = 10000, oov_token = \"<OOV>\")\n",
    "    \n",
    "    # Fit the tokenizer to the training sentences\n",
    "    tokenizer.fit_on_texts(training_sentences)\n",
    "        \n",
    "    return tokenizer\n",
    "\n",
    "def seq_pad_and_trunc(sentences, tokenizer):\n",
    "           \n",
    "    # Convert sentences to sequences\n",
    "    sequences = tokenizer.texts_to_sequences(sentences)\n",
    "    \n",
    "    # Pad the sequences using the correct padding, truncating and maxlen\n",
    "    pad_trunc_sequences = pad_sequences(sequences, maxlen=300, padding='post', truncating='post')\n",
    "        \n",
    "    return pad_trunc_sequences"
   ]
  },
  {
   "cell_type": "code",
   "execution_count": 81,
   "metadata": {
    "colab": {
     "base_uri": "https://localhost:8080/"
    },
    "id": "s18Chh3NoGCi",
    "outputId": "8b22d2a8-894d-4e34-eff6-0aa74ed366eb"
   },
   "outputs": [
    {
     "name": "stdout",
     "output_type": "stream",
     "text": [
      "Vocabulary contains 15652 words\n",
      "\n",
      "<OOV> token included in vocabulary\n",
      "\n",
      "index of word 'i' should be 793\n"
     ]
    }
   ],
   "source": [
    "tokenizer = fit_tokenizer(training_sentences)\n",
    "\n",
    "word_index = tokenizer.word_index\n",
    "VOCAB_SIZE = len(word_index)\n",
    "\n",
    "print(f\"Vocabulary contains {VOCAB_SIZE} words\\n\")\n",
    "print(\"<OOV> token included in vocabulary\" if \"<OOV>\" in word_index else \"<OOV> token NOT included in vocabulary\")\n",
    "print(f\"\\nindex of word 'i' should be {word_index['i']}\")\n",
    "\n",
    "train_pad_trunc_seq = seq_pad_and_trunc(training_sentences, tokenizer)\n",
    "test_pad_trunc_seq = seq_pad_and_trunc(test_sentences, tokenizer)\n",
    "\n",
    "training_label = np.array(training_label)\n",
    "test_label = np.array(test_label)"
   ]
  },
  {
   "cell_type": "markdown",
   "metadata": {
    "id": "fWokj2OAym8N"
   },
   "source": [
    "####Model"
   ]
  },
  {
   "cell_type": "markdown",
   "metadata": {
    "id": "dXH_srcL3Mbk"
   },
   "source": [
    "#####BLSTM"
   ]
  },
  {
   "cell_type": "code",
   "execution_count": 83,
   "metadata": {
    "id": "4b0QFqZeyuCT"
   },
   "outputs": [],
   "source": [
    "embedding_dim = 16\n",
    "\n",
    "model1 = tf.keras.Sequential([\n",
    "    tf.keras.layers.Embedding(VOCAB_SIZE, embedding_dim, input_length=100),\n",
    "    tf.keras.layers.Bidirectional(LSTM(32)),\n",
    "    tf.keras.layers.Dense(24, activation='relu'),\n",
    "    tf.keras.layers.Dense(1, activation='sigmoid')\n",
    "])\n",
    "\n",
    "# model2 = tf.keras.Sequential([\n",
    "#     tf.keras.layers.Embedding(VOCAB_SIZE, embedding_dim, input_length=max_length),\n",
    "#     tf.keras.layers.Bidirectional(tf.keras.layers.LSTM(lstm_dim)),\n",
    "#     tf.keras.layers.Dense(dense_dim, activation='relu'),\n",
    "#     tf.keras.layers.Dense(1, activation='sigmoid')\n",
    "# ])\n",
    "\n",
    "# model3 = tf.keras.Sequential([\n",
    "#     tf.keras.layers.Embedding(VOCAB_SIZE, embedding_dim, input_length=max_length),\n",
    "#     tf.keras.layers.Bidirectional(tf.keras.layers.LSTM(lstm_dim)),\n",
    "#     tf.keras.layers.Dense(dense_dim, activation='relu'),\n",
    "#     tf.keras.layers.Dense(1, activation='sigmoid')\n",
    "# ])\n",
    "\n",
    "# model4 = tf.keras.Sequential([\n",
    "#     tf.keras.layers.Embedding(VOCAB_SIZE, embedding_dim, input_length=max_length),\n",
    "#     tf.keras.layers.Bidirectional(tf.keras.layers.LSTM(lstm_dim)),\n",
    "#     tf.keras.layers.Dense(dense_dim, activation='relu'),\n",
    "#     tf.keras.layers.Dense(1, activation='sigmoid')\n",
    "# ])\n",
    "\n",
    "# model5 = tf.keras.Sequential([\n",
    "#     tf.keras.layers.Embedding(VOCAB_SIZE, embedding_dim, input_length=max_length),\n",
    "#     tf.keras.layers.Bidirectional(tf.keras.layers.LSTM(lstm_dim)),\n",
    "#     tf.keras.layers.Dense(dense_dim, activation='relu'),\n",
    "#     tf.keras.layers.Dense(1, activation='sigmoid')\n",
    "# ])"
   ]
  },
  {
   "cell_type": "code",
   "execution_count": 85,
   "metadata": {
    "colab": {
     "base_uri": "https://localhost:8080/",
     "height": 797
    },
    "id": "Hr8JNdQ63o-b",
    "outputId": "1051ba84-8b5e-4794-c59f-d5691bf9061c"
   },
   "outputs": [
    {
     "name": "stdout",
     "output_type": "stream",
     "text": [
      "Model: \"sequential_4\"\n",
      "_________________________________________________________________\n",
      " Layer (type)                Output Shape              Param #   \n",
      "=================================================================\n",
      " embedding_4 (Embedding)     (None, 100, 16)           250432    \n",
      "                                                                 \n",
      " bidirectional_4 (Bidirectio  (None, 64)               12544     \n",
      " nal)                                                            \n",
      "                                                                 \n",
      " dense_8 (Dense)             (None, 24)                1560      \n",
      "                                                                 \n",
      " dense_9 (Dense)             (None, 1)                 25        \n",
      "                                                                 \n",
      "=================================================================\n",
      "Total params: 264,561\n",
      "Trainable params: 264,561\n",
      "Non-trainable params: 0\n",
      "_________________________________________________________________\n",
      "Epoch 1/10\n",
      "86/86 [==============================] - ETA: 0s - loss: -0.2323 - accuracy: 0.2977"
     ]
    },
    {
     "ename": "ValueError",
     "evalue": "ignored",
     "output_type": "error",
     "traceback": [
      "\u001b[0;31m---------------------------------------------------------------------------\u001b[0m",
      "\u001b[0;31mValueError\u001b[0m                                Traceback (most recent call last)",
      "\u001b[0;32m<ipython-input-85-d58c0de92531>\u001b[0m in \u001b[0;36m<module>\u001b[0;34m()\u001b[0m\n\u001b[1;32m      6\u001b[0m \u001b[0mbatch_size\u001b[0m \u001b[0;34m=\u001b[0m \u001b[0;36m128\u001b[0m\u001b[0;34m\u001b[0m\u001b[0;34m\u001b[0m\u001b[0m\n\u001b[1;32m      7\u001b[0m \u001b[0;34m\u001b[0m\u001b[0m\n\u001b[0;32m----> 8\u001b[0;31m \u001b[0mhistory_lstm\u001b[0m \u001b[0;34m=\u001b[0m \u001b[0mmodel1\u001b[0m\u001b[0;34m.\u001b[0m\u001b[0mfit\u001b[0m\u001b[0;34m(\u001b[0m\u001b[0mtraining_padded\u001b[0m\u001b[0;34m,\u001b[0m \u001b[0mtraining_label\u001b[0m\u001b[0;34m,\u001b[0m \u001b[0mbatch_size\u001b[0m\u001b[0;34m=\u001b[0m\u001b[0mbatch_size\u001b[0m\u001b[0;34m,\u001b[0m \u001b[0mepochs\u001b[0m\u001b[0;34m=\u001b[0m\u001b[0mnum_epochs\u001b[0m\u001b[0;34m,\u001b[0m \u001b[0mvalidation_data\u001b[0m\u001b[0;34m=\u001b[0m\u001b[0;34m(\u001b[0m\u001b[0mtesting_padded\u001b[0m\u001b[0;34m,\u001b[0m \u001b[0mtest_label\u001b[0m\u001b[0;34m)\u001b[0m\u001b[0;34m)\u001b[0m\u001b[0;34m\u001b[0m\u001b[0;34m\u001b[0m\u001b[0m\n\u001b[0m\u001b[1;32m      9\u001b[0m \u001b[0;31m# history_lstm = model1.fit(train_pad_trunc_seq, training_label, batch_size=batch_size, epochs=num_epochs, validation_data=(test_pad_trunc_seq, test_label))\u001b[0m\u001b[0;34m\u001b[0m\u001b[0;34m\u001b[0m\u001b[0;34m\u001b[0m\u001b[0m\n",
      "\u001b[0;32m/usr/local/lib/python3.7/dist-packages/keras/utils/traceback_utils.py\u001b[0m in \u001b[0;36merror_handler\u001b[0;34m(*args, **kwargs)\u001b[0m\n\u001b[1;32m     65\u001b[0m     \u001b[0;32mexcept\u001b[0m \u001b[0mException\u001b[0m \u001b[0;32mas\u001b[0m \u001b[0me\u001b[0m\u001b[0;34m:\u001b[0m  \u001b[0;31m# pylint: disable=broad-except\u001b[0m\u001b[0;34m\u001b[0m\u001b[0;34m\u001b[0m\u001b[0m\n\u001b[1;32m     66\u001b[0m       \u001b[0mfiltered_tb\u001b[0m \u001b[0;34m=\u001b[0m \u001b[0m_process_traceback_frames\u001b[0m\u001b[0;34m(\u001b[0m\u001b[0me\u001b[0m\u001b[0;34m.\u001b[0m\u001b[0m__traceback__\u001b[0m\u001b[0;34m)\u001b[0m\u001b[0;34m\u001b[0m\u001b[0;34m\u001b[0m\u001b[0m\n\u001b[0;32m---> 67\u001b[0;31m       \u001b[0;32mraise\u001b[0m \u001b[0me\u001b[0m\u001b[0;34m.\u001b[0m\u001b[0mwith_traceback\u001b[0m\u001b[0;34m(\u001b[0m\u001b[0mfiltered_tb\u001b[0m\u001b[0;34m)\u001b[0m \u001b[0;32mfrom\u001b[0m \u001b[0;32mNone\u001b[0m\u001b[0;34m\u001b[0m\u001b[0;34m\u001b[0m\u001b[0m\n\u001b[0m\u001b[1;32m     68\u001b[0m     \u001b[0;32mfinally\u001b[0m\u001b[0;34m:\u001b[0m\u001b[0;34m\u001b[0m\u001b[0;34m\u001b[0m\u001b[0m\n\u001b[1;32m     69\u001b[0m       \u001b[0;32mdel\u001b[0m \u001b[0mfiltered_tb\u001b[0m\u001b[0;34m\u001b[0m\u001b[0;34m\u001b[0m\u001b[0m\n",
      "\u001b[0;32m/usr/local/lib/python3.7/dist-packages/keras/engine/data_adapter.py\u001b[0m in \u001b[0;36m_check_data_cardinality\u001b[0;34m(data)\u001b[0m\n\u001b[1;32m   1651\u001b[0m                            for i in tf.nest.flatten(single_data)))\n\u001b[1;32m   1652\u001b[0m     \u001b[0mmsg\u001b[0m \u001b[0;34m+=\u001b[0m \u001b[0;34m\"Make sure all arrays contain the same number of samples.\"\u001b[0m\u001b[0;34m\u001b[0m\u001b[0;34m\u001b[0m\u001b[0m\n\u001b[0;32m-> 1653\u001b[0;31m     \u001b[0;32mraise\u001b[0m \u001b[0mValueError\u001b[0m\u001b[0;34m(\u001b[0m\u001b[0mmsg\u001b[0m\u001b[0;34m)\u001b[0m\u001b[0;34m\u001b[0m\u001b[0;34m\u001b[0m\u001b[0m\n\u001b[0m\u001b[1;32m   1654\u001b[0m \u001b[0;34m\u001b[0m\u001b[0m\n\u001b[1;32m   1655\u001b[0m \u001b[0;34m\u001b[0m\u001b[0m\n",
      "\u001b[0;31mValueError\u001b[0m: Data cardinality is ambiguous:\n  x sizes: 10997\n  y sizes: 500\nMake sure all arrays contain the same number of samples."
     ]
    }
   ],
   "source": [
    "model1.compile(loss='binary_crossentropy',optimizer='adam',metrics=['accuracy'])\n",
    "\n",
    "model1.summary()\n",
    "\n",
    "num_epochs = 10\n",
    "batch_size = 128\n",
    "\n",
    "# history_lstm = model1.fit(training_padded, training_label, batch_size=batch_size, epochs=num_epochs, validation_data=(testing_padded, test_label))\n",
    "history_lstm = model1.fit(train_pad_trunc_seq, training_label, batch_size=batch_size, epochs=num_epochs, validation_data=(test_pad_trunc_seq, test_label))"
   ]
  },
  {
   "cell_type": "code",
   "execution_count": 87,
   "metadata": {
    "colab": {
     "base_uri": "https://localhost:8080/",
     "height": 566
    },
    "id": "v8ZKrd3YBCC6",
    "outputId": "6c2f0b48-3782-41cd-e96e-08bd9952885f"
   },
   "outputs": [
    {
     "name": "stdout",
     "output_type": "stream",
     "text": [
      "Total Data : 10997\n",
      "Positive : 6410\n",
      "Neutral : 1150\n",
      "Negative : 3437\n"
     ]
    },
    {
     "data": {
      "image/png": "[encoded data removed]",
      "text/plain": [
       "<Figure size 720x576 with 1 Axes>"
      ]
     },
     "metadata": {
      "needs_background": "light"
     },
     "output_type": "display_data"
    }
   ],
   "source": [
    "data = pd.read_excel(\"dataset_clean/train_preprocess.xlsx\")\n",
    "data.replace('', np.nan, inplace=True)\n",
    "data.dropna(inplace=True) # memastikan tidak ada nilai yang kosong\n",
    "positive = data.loc[data['label'] == 1, 'sentence'].copy().reset_index(drop=True)\n",
    "neutral = data.loc[data['label'] == 0, 'sentence'].copy().reset_index(drop=True)\n",
    "negative = data.loc[data['label'] == -1, 'sentence'].copy().reset_index(drop=True)\n",
    "print(\"Total Data :\", len(data))\n",
    "print(\"Positive :\", len(positive))\n",
    "print(\"Neutral :\", len(neutral))\n",
    "print(\"Negative :\", len(negative))\n",
    "\n",
    "plt.figure(figsize=(10,8))\n",
    "sns.countplot(x='label', data=data)\n",
    "plt.show()"
   ]
  },
  {
   "cell_type": "code",
   "execution_count": 92,
   "metadata": {
    "colab": {
     "base_uri": "https://localhost:8080/"
    },
    "id": "yC40F4MvCDkm",
    "outputId": "2ae7cca4-dbff-4bd4-a83d-582906ffa9f0"
   },
   "outputs": [
    {
     "name": "stdout",
     "output_type": "stream",
     "text": [
      "['warung ini dimiliki oleh pengusaha pabrik tahu yang sudah puluhan tahun terkenal membuat tahu putih di bandung tahu berkualitas dipadu keahlian memasak dipadu kretivitas jadilah warung yang menyajikan menu utama berbahan tahu ditambah menu umum lain seperti ayam semuanya selera indonesia rga cukup terjangkau jangan melewati tahu bletoka nya tidak kalah dengan yang asli dari tegal'\n",
      " 'mohon ulama lurus dan k mmbri hujjah partai apa yang rus diwlh agar suara islam tidak pecah pecah'\n",
      " 'lokasi strategis di jalan sumatra bandung tempat nya nyaman terutama sofa di lantai paella nya enak sangat pas dimakan dengan minum bir dingin appetiser nya juga enak enak'\n",
      " ... 'hormati partai partai yang telah berkoalisi'\n",
      " 'pagi pagi di tol pasteur sudah macet parah bikin jengkel saja ini'\n",
      " 'meskipun sering belanja ke yogyakarta di riau junction tapi baru pertama kali ini saya lihat foodlife tempat nya luas dan bersih tidak kumuh semacam foodcourt lainnya dan pilihan makanan nya banyak banget dari yang tradisional sampai makanan barat ataupun asian mau yang berat sampai ke yang ringan mpir semuanya ada tinggal pilih dan disesuaikan sama biaya makan nya saja']\n"
     ]
    }
   ],
   "source": [
    "# Splitting Data\n",
    "text = data['sentence'].values\n",
    "label = data['label'].values\n",
    "\n",
    "data_train = text\n",
    "label_train = label\n",
    "\n",
    "data1 = pd.read_excel(\"dataset_clean/test_preprocess_masked_label.xlsx\")\n",
    "data1.replace('', np.nan, inplace=True)\n",
    "data_test = data1['sentence'].values\n",
    "label_test = data1['label'].values\n",
    "\n",
    "data2 = pd.read_excel(\"dataset_clean/valid_preprocess.xlsx\")\n",
    "data2.replace('', np.nan, inplace=True)\n",
    "data_val = data2['sentence'].values\n",
    "label_val = data2['label'].values"
   ]
  },
  {
   "cell_type": "code",
   "execution_count": 106,
   "metadata": {
    "id": "yjCiml8aQb5b"
   },
   "outputs": [],
   "source": [
    "# Tokenizer\n",
    "tokenizer = Tokenizer()\n",
    "tokenizer.fit_on_texts(text)\n",
    "\n",
    "vocab = max([len(tokenizer.word_index)]) + 1 # kamus kata \n",
    "maxlen = max([len(i.split()) for i in text]) # panjang input sequence\n",
    "batch_size = 128 # penentuan jumlah sample yang ditraining pada tiap epoch\n",
    "num_epochs = 10 # banyak iterasi pada saat training model \n",
    "initializer = initializers.RandomUniform(minval=-0.05, maxval=0.05, seed=2)"
   ]
  },
  {
   "cell_type": "code",
   "execution_count": 95,
   "metadata": {
    "id": "9PEqbYZtQwe0"
   },
   "outputs": [],
   "source": [
    "#Data Train\n",
    "X_train = tokenizer.texts_to_sequences(data_train)\n",
    "X_train = pad_sequences(X_train, maxlen=maxlen)\n",
    "Y_train = to_categorical(label_train, num_classes = 3)\n",
    "\n",
    "#Data Test\n",
    "X_test = tokenizer.texts_to_sequences(data_test)\n",
    "X_test = pad_sequences(X_test, maxlen=maxlen)\n",
    "Y_test = to_categorical(label_test, num_classes = 3)\n",
    "\n",
    "#Data Validation\n",
    "X_val = tokenizer.texts_to_sequences(data_val)\n",
    "X_val = pad_sequences(X_val, maxlen=maxlen)\n",
    "Y_val = to_categorical(label_val, num_classes = 3)"
   ]
  },
  {
   "cell_type": "code",
   "execution_count": 100,
   "metadata": {
    "id": "4wEqylkoQ_AS"
   },
   "outputs": [],
   "source": [
    "def get_model1(X, Y):\n",
    "    model = Sequential() \n",
    "    model.add(Embedding(input_dim = vocab, output_dim = 128, input_length = maxlen, embeddings_initializer = initializer))\n",
    "    model.add(Bidirectional(LSTM(128, recurrent_initializer = initializer, kernel_initializer = initializer)))\n",
    "    model.add(Dense(3, activation='sigmoid', kernel_initializer = initializer)) \n",
    "    model.compile(loss='binary_crossentropy', optimizer='adam', metrics=['accuracy'])\n",
    "    print(model.summary())\n",
    "    \n",
    "    return model\n",
    "\n",
    "def get_model2(X, Y):\n",
    "    model = Sequential() \n",
    "    model.add(Embedding(input_dim = vocab, output_dim = 128, input_length = maxlen, embeddings_initializer = initializer))\n",
    "    model.add(Bidirectional(LSTM(128, recurrent_initializer = initializer, kernel_initializer = initializer, return_sequences=True)))\n",
    "    model.add(Bidirectional(LSTM(128)))\n",
    "    model.add(Dense(3, activation='sigmoid', kernel_initializer = initializer)) \n",
    "    model.compile(loss='binary_crossentropy', optimizer='adam', metrics=['accuracy'])\n",
    "    print(model.summary())\n",
    "    \n",
    "    return model\n",
    "\n",
    "def get_model3(X, Y):\n",
    "    model = Sequential() \n",
    "    model.add(Embedding(input_dim = vocab, output_dim = 128, input_length = maxlen, embeddings_initializer = initializer))\n",
    "    model.add(Dropout(0.9))\n",
    "    model.add(Bidirectional(LSTM(128, recurrent_initializer = initializer, kernel_initializer = initializer)))\n",
    "    model.add(Dropout(0.5))\n",
    "    model.add(Dense(3, activation='sigmoid', kernel_initializer = initializer)) \n",
    "    model.compile(loss='binary_crossentropy', optimizer='adam', metrics=['accuracy'])\n",
    "    print(model.summary())\n",
    "    \n",
    "    return model\n",
    "\n",
    "def get_model4(X, Y):\n",
    "    model = Sequential() \n",
    "    model.add(Embedding(input_dim = vocab, output_dim = 128, input_length = maxlen, embeddings_initializer = initializer))\n",
    "    model.add(Dropout(0.9))\n",
    "    model.add(Bidirectional(LSTM(128, recurrent_initializer = initializer, kernel_initializer = initializer, return_sequences=True)))\n",
    "    model.add(Dropout(0.5))\n",
    "    model.add(Bidirectional(LSTM(128)))\n",
    "    model.add(Dropout(0.4))\n",
    "    model.add(Dense(3, activation='sigmoid', kernel_initializer = initializer)) \n",
    "    model.compile(loss='binary_crossentropy', optimizer='adam', metrics=['accuracy'])\n",
    "    print(model.summary())\n",
    "    \n",
    "    return model\n",
    "\n",
    "def plot_history(histories, key='loss'):\n",
    "    plt.figure(figsize=(16,10))\n",
    "\n",
    "    for name, history in histories:\n",
    "        val = plt.plot(history.epoch, history.history['val_'+key],\n",
    "                   '--', label=name.title()+' Val')\n",
    "        plt.plot(history.epoch, history.history[key], color=val[0].get_color(),\n",
    "             label=name.title()+' Train')\n",
    "\n",
    "        plt.xlabel('Epochs')\n",
    "        plt.ylabel(key.replace('_',' ').title())\n",
    "        plt.legend()\n",
    "        plt.xlim([0,max(history.epoch)])\n",
    "        \n",
    "def evaluation(model, X, Y):\n",
    "    # Predict the values\n",
    "    Y_pred = model.predict(X)\n",
    "    Y_pred_class = np.argmax(Y_pred, axis=1)\n",
    "    Y_act = Y\n",
    "    # accuracy\n",
    "    accuracy = accuracy_score(Y_act, Y_pred_class)\n",
    "    print(\"Accuracy: %.2f\" % (accuracy*100), \"%\")\n",
    "    # precision\n",
    "    precision = precision_score(Y_act, Y_pred_class)\n",
    "    print(\"Precision: %.2f\" % (precision*100), \"%\")\n",
    "    # recall\n",
    "    recall = recall_score(Y_act, Y_pred_class)\n",
    "    print(\"Recall: %.2f\" % (recall*100), \"%\")\n",
    "    \n",
    "    return Y_act, Y_pred_class\n",
    "\n",
    "def conf_matrix(Y_act, Y_pred):\n",
    "    # compute the confusion matrix\n",
    "    confusion_mtx = confusion_matrix(Y_act, Y_pred)\n",
    "    plt.figure(figsize=(10,8))\n",
    "    sns.heatmap(confusion_mtx, annot=True, fmt=\"d\");\n",
    "    plt.ylabel('Actual')\n",
    "    plt.xlabel('Predicted')\n",
    "    plt.show()"
   ]
  },
  {
   "cell_type": "code",
   "execution_count": 107,
   "metadata": {
    "colab": {
     "base_uri": "https://localhost:8080/"
    },
    "id": "peXWqrlHRWnQ",
    "outputId": "a96b23f7-c4ed-4da7-a174-e53edb77036f"
   },
   "outputs": [
    {
     "name": "stdout",
     "output_type": "stream",
     "text": [
      "Model: \"sequential_9\"\n",
      "_________________________________________________________________\n",
      " Layer (type)                Output Shape              Param #   \n",
      "=================================================================\n",
      " embedding_9 (Embedding)     (None, 85, 128)           2003456   \n",
      "                                                                 \n",
      " bidirectional_9 (Bidirectio  (None, 256)              263168    \n",
      " nal)                                                            \n",
      "                                                                 \n",
      " dense_14 (Dense)            (None, 3)                 771       \n",
      "                                                                 \n",
      "=================================================================\n",
      "Total params: 2,267,395\n",
      "Trainable params: 2,267,395\n",
      "Non-trainable params: 0\n",
      "_________________________________________________________________\n",
      "None\n",
      "\n",
      "Epoch 1/10\n",
      "86/86 [==============================] - 61s 664ms/step - loss: 0.4451 - accuracy: 0.6867 - val_loss: 0.3628 - val_accuracy: 0.7722\n",
      "Epoch 2/10\n",
      "86/86 [==============================] - 58s 675ms/step - loss: 0.3416 - accuracy: 0.7818 - val_loss: 0.3280 - val_accuracy: 0.7865\n",
      "Epoch 3/10\n",
      "86/86 [==============================] - 57s 668ms/step - loss: 0.2823 - accuracy: 0.8162 - val_loss: 0.2628 - val_accuracy: 0.8310\n",
      "Epoch 4/10\n",
      "86/86 [==============================] - 56s 657ms/step - loss: 0.1690 - accuracy: 0.9113 - val_loss: 0.2181 - val_accuracy: 0.8786\n",
      "Epoch 5/10\n",
      "86/86 [==============================] - 56s 649ms/step - loss: 0.1059 - accuracy: 0.9473 - val_loss: 0.2290 - val_accuracy: 0.8802\n",
      "Epoch 6/10\n",
      "86/86 [==============================] - 56s 647ms/step - loss: 0.0762 - accuracy: 0.9632 - val_loss: 0.2465 - val_accuracy: 0.8746\n",
      "Epoch 7/10\n",
      "86/86 [==============================] - 56s 650ms/step - loss: 0.0614 - accuracy: 0.9696 - val_loss: 0.2621 - val_accuracy: 0.8730\n",
      "Epoch 8/10\n",
      "86/86 [==============================] - 56s 647ms/step - loss: 0.0487 - accuracy: 0.9735 - val_loss: 0.2610 - val_accuracy: 0.8746\n",
      "Epoch 9/10\n",
      "86/86 [==============================] - 56s 649ms/step - loss: 0.0389 - accuracy: 0.9795 - val_loss: 0.3201 - val_accuracy: 0.8611\n",
      "Epoch 10/10\n",
      "86/86 [==============================] - 56s 649ms/step - loss: 0.0328 - accuracy: 0.9809 - val_loss: 0.3108 - val_accuracy: 0.8635\n"
     ]
    }
   ],
   "source": [
    "model1 = get_model1(X_train, Y_train)\n",
    "print()\n",
    "history1 = model1.fit(X_train, Y_train, batch_size=batch_size, epochs=num_epochs, verbose=1, validation_data=(X_val, Y_val))"
   ]
  },
  {
   "cell_type": "code",
   "execution_count": 109,
   "metadata": {
    "colab": {
     "base_uri": "https://localhost:8080/",
     "height": 541
    },
    "id": "op7eibuuVWbl",
    "outputId": "4b7ba63c-1095-4d5e-e2f9-8fdf98d3eeeb"
   },
   "outputs": [
    {
     "data": {
      "image/png": "[encoded data removed]",
      "text/plain": [
       "<Figure size 432x288 with 1 Axes>"
      ]
     },
     "metadata": {
      "needs_background": "light"
     },
     "output_type": "display_data"
    },
    {
     "data": {
      "image/png": "[encoded data removed]",
      "text/plain": [
       "<Figure size 432x288 with 1 Axes>"
      ]
     },
     "metadata": {
      "needs_background": "light"
     },
     "output_type": "display_data"
    }
   ],
   "source": [
    "# Plot Utility\n",
    "def plot_graphs(history, string):\n",
    "  plt.plot(history.history[string])\n",
    "  plt.plot(history.history['val_'+string])\n",
    "  plt.xlabel(\"Epochs\")\n",
    "  plt.ylabel(string)\n",
    "  plt.legend([string, 'val_'+string])\n",
    "  plt.show()\n",
    "\n",
    "# Plot the accuracy and loss history\n",
    "plot_graphs(history1, 'accuracy')\n",
    "plot_graphs(history1, 'loss')"
   ]
  },
  {
   "cell_type": "code",
   "execution_count": 110,
   "metadata": {
    "colab": {
     "base_uri": "https://localhost:8080/",
     "height": 1000
    },
    "id": "yjxZqEnaZIl0",
    "outputId": "bef21ebe-b540-420c-c6cf-4ce8eaa42b1f"
   },
   "outputs": [
    {
     "name": "stdout",
     "output_type": "stream",
     "text": [
      "Model: \"sequential_10\"\n",
      "_________________________________________________________________\n",
      " Layer (type)                Output Shape              Param #   \n",
      "=================================================================\n",
      " embedding_10 (Embedding)    (None, 85, 128)           2003456   \n",
      "                                                                 \n",
      " bidirectional_10 (Bidirecti  (None, 85, 256)          263168    \n",
      " onal)                                                           \n",
      "                                                                 \n",
      " bidirectional_11 (Bidirecti  (None, 256)              394240    \n",
      " onal)                                                           \n",
      "                                                                 \n",
      " dense_15 (Dense)            (None, 3)                 771       \n",
      "                                                                 \n",
      "=================================================================\n",
      "Total params: 2,661,635\n",
      "Trainable params: 2,661,635\n",
      "Non-trainable params: 0\n",
      "_________________________________________________________________\n",
      "None\n",
      "\n",
      "Epoch 1/10\n",
      "86/86 [==============================] - 137s 2s/step - loss: 0.4201 - accuracy: 0.7032 - val_loss: 0.3005 - val_accuracy: 0.8135\n",
      "Epoch 2/10\n",
      "86/86 [==============================] - 127s 1s/step - loss: 0.2208 - accuracy: 0.8733 - val_loss: 0.2226 - val_accuracy: 0.8706\n",
      "Epoch 3/10\n",
      "86/86 [==============================] - 125s 1s/step - loss: 0.1297 - accuracy: 0.9299 - val_loss: 0.2221 - val_accuracy: 0.8802\n",
      "Epoch 4/10\n",
      "86/86 [==============================] - 125s 1s/step - loss: 0.0899 - accuracy: 0.9525 - val_loss: 0.2408 - val_accuracy: 0.8714\n",
      "Epoch 5/10\n",
      "86/86 [==============================] - 125s 1s/step - loss: 0.0647 - accuracy: 0.9648 - val_loss: 0.2683 - val_accuracy: 0.8690\n",
      "Epoch 6/10\n",
      "86/86 [==============================] - 125s 1s/step - loss: 0.0534 - accuracy: 0.9700 - val_loss: 0.3091 - val_accuracy: 0.8698\n",
      "Epoch 7/10\n",
      "86/86 [==============================] - 125s 1s/step - loss: 0.0438 - accuracy: 0.9751 - val_loss: 0.3025 - val_accuracy: 0.8643\n",
      "Epoch 8/10\n",
      "86/86 [==============================] - 126s 1s/step - loss: 0.0379 - accuracy: 0.9761 - val_loss: 0.3595 - val_accuracy: 0.8722\n",
      "Epoch 9/10\n",
      "86/86 [==============================] - 127s 1s/step - loss: 0.0368 - accuracy: 0.9787 - val_loss: 0.3249 - val_accuracy: 0.8714\n",
      "Epoch 10/10\n",
      "86/86 [==============================] - 127s 1s/step - loss: 0.0309 - accuracy: 0.9824 - val_loss: 0.3413 - val_accuracy: 0.8667\n",
      "\n"
     ]
    },
    {
     "data": {
      "image/png": "[encoded data removed]",
      "text/plain": [
       "<Figure size 432x288 with 1 Axes>"
      ]
     },
     "metadata": {
      "needs_background": "light"
     },
     "output_type": "display_data"
    },
    {
     "data": {
      "image/png": "[encoded data removed]",
      "text/plain": [
       "<Figure size 432x288 with 1 Axes>"
      ]
     },
     "metadata": {
      "needs_background": "light"
     },
     "output_type": "display_data"
    }
   ],
   "source": [
    "model2 = get_model2(X_train, Y_train)\n",
    "print()\n",
    "history2 = model2.fit(X_train, Y_train, batch_size=batch_size, epochs=num_epochs, verbose=1, validation_data=(X_val, Y_val))\n",
    "print()\n",
    "# Plot Utility\n",
    "def plot_graphs(history, string):\n",
    "  plt.plot(history.history[string])\n",
    "  plt.plot(history.history['val_'+string])\n",
    "  plt.xlabel(\"Epochs\")\n",
    "  plt.ylabel(string)\n",
    "  plt.legend([string, 'val_'+string])\n",
    "  plt.show()\n",
    "\n",
    "# Plot the accuracy and loss history\n",
    "plot_graphs(history2, 'accuracy')\n",
    "plot_graphs(history2, 'loss')"
   ]
  },
  {
   "cell_type": "code",
   "execution_count": 111,
   "metadata": {
    "colab": {
     "base_uri": "https://localhost:8080/",
     "height": 1000
    },
    "id": "4B69a92sfyYL",
    "outputId": "82408f9b-513e-45ba-fea7-437b8f41ebbf"
   },
   "outputs": [
    {
     "name": "stdout",
     "output_type": "stream",
     "text": [
      "Model: \"sequential_11\"\n",
      "_________________________________________________________________\n",
      " Layer (type)                Output Shape              Param #   \n",
      "=================================================================\n",
      " embedding_11 (Embedding)    (None, 85, 128)           2003456   \n",
      "                                                                 \n",
      " dropout (Dropout)           (None, 85, 128)           0         \n",
      "                                                                 \n",
      " bidirectional_12 (Bidirecti  (None, 256)              263168    \n",
      " onal)                                                           \n",
      "                                                                 \n",
      " dropout_1 (Dropout)         (None, 256)               0         \n",
      "                                                                 \n",
      " dense_16 (Dense)            (None, 3)                 771       \n",
      "                                                                 \n",
      "=================================================================\n",
      "Total params: 2,267,395\n",
      "Trainable params: 2,267,395\n",
      "Non-trainable params: 0\n",
      "_________________________________________________________________\n",
      "None\n",
      "\n",
      "Epoch 1/10\n",
      "86/86 [==============================] - 65s 689ms/step - loss: 0.4723 - accuracy: 0.6631 - val_loss: 0.3670 - val_accuracy: 0.7651\n",
      "Epoch 2/10\n",
      "86/86 [==============================] - 60s 693ms/step - loss: 0.3759 - accuracy: 0.7613 - val_loss: 0.3454 - val_accuracy: 0.7810\n",
      "Epoch 3/10\n",
      "86/86 [==============================] - 58s 674ms/step - loss: 0.3417 - accuracy: 0.7781 - val_loss: 0.3251 - val_accuracy: 0.7937\n",
      "Epoch 4/10\n",
      "86/86 [==============================] - 60s 693ms/step - loss: 0.3036 - accuracy: 0.7988 - val_loss: 0.2857 - val_accuracy: 0.8024\n",
      "Epoch 5/10\n",
      "86/86 [==============================] - 59s 685ms/step - loss: 0.2480 - accuracy: 0.8404 - val_loss: 0.2537 - val_accuracy: 0.8675\n",
      "Epoch 6/10\n",
      "86/86 [==============================] - 59s 686ms/step - loss: 0.2081 - accuracy: 0.8789 - val_loss: 0.2228 - val_accuracy: 0.8754\n",
      "Epoch 7/10\n",
      "86/86 [==============================] - 58s 675ms/step - loss: 0.1822 - accuracy: 0.8938 - val_loss: 0.2054 - val_accuracy: 0.8778\n",
      "Epoch 8/10\n",
      "86/86 [==============================] - 58s 674ms/step - loss: 0.1625 - accuracy: 0.9044 - val_loss: 0.2024 - val_accuracy: 0.8770\n",
      "Epoch 9/10\n",
      "86/86 [==============================] - 58s 670ms/step - loss: 0.1510 - accuracy: 0.9150 - val_loss: 0.2026 - val_accuracy: 0.8841\n",
      "Epoch 10/10\n",
      "86/86 [==============================] - 58s 673ms/step - loss: 0.1361 - accuracy: 0.9248 - val_loss: 0.2069 - val_accuracy: 0.8857\n",
      "\n"
     ]
    },
    {
     "data": {
      "image/png": "[encoded data removed]",
      "text/plain": [
       "<Figure size 432x288 with 1 Axes>"
      ]
     },
     "metadata": {
      "needs_background": "light"
     },
     "output_type": "display_data"
    },
    {
     "data": {
      "image/png": "[encoded data removed]",
      "text/plain": [
       "<Figure size 432x288 with 1 Axes>"
      ]
     },
     "metadata": {
      "needs_background": "light"
     },
     "output_type": "display_data"
    }
   ],
   "source": [
    "model3 = get_model3(X_train, Y_train)\n",
    "print()\n",
    "history3 = model3.fit(X_train, Y_train, batch_size=batch_size, epochs=num_epochs, verbose=1, validation_data=(X_val, Y_val))\n",
    "print()\n",
    "# Plot Utility\n",
    "def plot_graphs(history, string):\n",
    "  plt.plot(history.history[string])\n",
    "  plt.plot(history.history['val_'+string])\n",
    "  plt.xlabel(\"Epochs\")\n",
    "  plt.ylabel(string)\n",
    "  plt.legend([string, 'val_'+string])\n",
    "  plt.show()\n",
    "\n",
    "# Plot the accuracy and loss history\n",
    "plot_graphs(history3, 'accuracy')\n",
    "plot_graphs(history3, 'loss')"
   ]
  },
  {
   "cell_type": "code",
   "execution_count": 112,
   "metadata": {
    "colab": {
     "base_uri": "https://localhost:8080/",
     "height": 1000
    },
    "id": "Vm_xJ8BlisJi",
    "outputId": "864b4abb-218e-4e58-dc35-d0be3c331ba9"
   },
   "outputs": [
    {
     "name": "stdout",
     "output_type": "stream",
     "text": [
      "Model: \"sequential_12\"\n",
      "_________________________________________________________________\n",
      " Layer (type)                Output Shape              Param #   \n",
      "=================================================================\n",
      " embedding_12 (Embedding)    (None, 85, 128)           2003456   \n",
      "                                                                 \n",
      " dropout_2 (Dropout)         (None, 85, 128)           0         \n",
      "                                                                 \n",
      " bidirectional_13 (Bidirecti  (None, 85, 256)          263168    \n",
      " onal)                                                           \n",
      "                                                                 \n",
      " dropout_3 (Dropout)         (None, 85, 256)           0         \n",
      "                                                                 \n",
      " bidirectional_14 (Bidirecti  (None, 256)              394240    \n",
      " onal)                                                           \n",
      "                                                                 \n",
      " dropout_4 (Dropout)         (None, 256)               0         \n",
      "                                                                 \n",
      " dense_17 (Dense)            (None, 3)                 771       \n",
      "                                                                 \n",
      "=================================================================\n",
      "Total params: 2,661,635\n",
      "Trainable params: 2,661,635\n",
      "Non-trainable params: 0\n",
      "_________________________________________________________________\n",
      "None\n",
      "\n",
      "Epoch 1/10\n",
      "86/86 [==============================] - 144s 2s/step - loss: 0.4623 - accuracy: 0.6762 - val_loss: 0.3769 - val_accuracy: 0.7619\n",
      "Epoch 2/10\n",
      "86/86 [==============================] - 134s 2s/step - loss: 0.3393 - accuracy: 0.7761 - val_loss: 0.3218 - val_accuracy: 0.7889\n",
      "Epoch 3/10\n",
      "86/86 [==============================] - 138s 2s/step - loss: 0.2970 - accuracy: 0.7968 - val_loss: 0.2642 - val_accuracy: 0.8278\n",
      "Epoch 4/10\n",
      "86/86 [==============================] - 133s 2s/step - loss: 0.2440 - accuracy: 0.8460 - val_loss: 0.2274 - val_accuracy: 0.8675\n",
      "Epoch 5/10\n",
      "86/86 [==============================] - 132s 2s/step - loss: 0.2044 - accuracy: 0.8789 - val_loss: 0.2098 - val_accuracy: 0.8770\n",
      "Epoch 6/10\n",
      "86/86 [==============================] - 131s 2s/step - loss: 0.1812 - accuracy: 0.8919 - val_loss: 0.1962 - val_accuracy: 0.8833\n",
      "Epoch 7/10\n",
      "86/86 [==============================] - 130s 2s/step - loss: 0.1632 - accuracy: 0.9025 - val_loss: 0.1970 - val_accuracy: 0.8810\n",
      "Epoch 8/10\n",
      "86/86 [==============================] - 130s 2s/step - loss: 0.1492 - accuracy: 0.9132 - val_loss: 0.2010 - val_accuracy: 0.8817\n",
      "Epoch 9/10\n",
      "86/86 [==============================] - 130s 2s/step - loss: 0.1375 - accuracy: 0.9214 - val_loss: 0.2046 - val_accuracy: 0.8873\n",
      "Epoch 10/10\n",
      "86/86 [==============================] - 131s 2s/step - loss: 0.1292 - accuracy: 0.9259 - val_loss: 0.2029 - val_accuracy: 0.8929\n",
      "\n"
     ]
    },
    {
     "data": {
      "image/png": "[encoded data removed]",
      "text/plain": [
       "<Figure size 432x288 with 1 Axes>"
      ]
     },
     "metadata": {
      "needs_background": "light"
     },
     "output_type": "display_data"
    },
    {
     "data": {
      "image/png": "[encoded data removed]",
      "text/plain": [
       "<Figure size 432x288 with 1 Axes>"
      ]
     },
     "metadata": {
      "needs_background": "light"
     },
     "output_type": "display_data"
    }
   ],
   "source": [
    "model4 = get_model4(X_train, Y_train)\n",
    "print()\n",
    "history4 = model4.fit(X_train, Y_train, batch_size=batch_size, epochs=num_epochs, verbose=1, validation_data=(X_val, Y_val))\n",
    "print()\n",
    "# Plot Utility\n",
    "def plot_graphs(history, string):\n",
    "  plt.plot(history.history[string])\n",
    "  plt.plot(history.history['val_'+string])\n",
    "  plt.xlabel(\"Epochs\")\n",
    "  plt.ylabel(string)\n",
    "  plt.legend([string, 'val_'+string])\n",
    "  plt.show()\n",
    "\n",
    "# Plot the accuracy and loss history\n",
    "plot_graphs(history4, 'accuracy')\n",
    "plot_graphs(history4, 'loss')"
   ]
  }
 ],
 "metadata": {
  "colab": {
   "collapsed_sections": [
    "dXH_srcL3Mbk"
   ],
   "name": "modelRaihan.ipynb",
   "provenance": []
  },
  "kernelspec": {
   "display_name": "Python 3",
   "language": "python",
   "name": "python3"
  },
  "language_info": {
   "codemirror_mode": {
    "name": "ipython",
    "version": 3
   },
   "file_extension": ".py",
   "mimetype": "text/x-python",
   "name": "python",
   "nbconvert_exporter": "python",
   "pygments_lexer": "ipython3",
   "version": "3.9.5"
  },
  "varInspector": {
   "cols": {
    "lenName": 16,
    "lenType": 16,
    "lenVar": 40
   },
   "kernels_config": {
    "python": {
     "delete_cmd_postfix": "",
     "delete_cmd_prefix": "del ",
     "library": "var_list.py",
     "varRefreshCmd": "print(var_dic_list())"
    },
    "r": {
     "delete_cmd_postfix": ") ",
     "delete_cmd_prefix": "rm(",
     "library": "var_list.r",
     "varRefreshCmd": "cat(var_dic_list()) "
    }
   },
   "types_to_exclude": [
    "module",
    "function",
    "builtin_function_or_method",
    "instance",
    "_Feature"
   ],
   "window_display": false
  }
 },
 "nbformat": 4,
 "nbformat_minor": 1
}
