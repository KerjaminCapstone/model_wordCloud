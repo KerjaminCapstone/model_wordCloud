{
 "cells": [
  {
   "cell_type": "code",
   "execution_count": 1,
   "id": "dc2a2711",
   "metadata": {},
   "outputs": [],
   "source": [
    "from flask import Flask,render_template,url_for,request\n",
    "import pandas as pd \n",
    "import pickle"
   ]
  },
  {
   "cell_type": "code",
   "execution_count": 3,
   "id": "24c20cab",
   "metadata": {},
   "outputs": [],
   "source": [
    "from ipywidgets import widgets, Layout, Label\n",
    "from IPython.display import display, clear_output\n",
    "import numpy as np\n",
    "from nltk.tokenize import sent_tokenize\n",
    "from keras.models import load_model\n",
    "from keras.preprocessing.text import Tokenizer\n",
    "from keras.preprocessing.sequence import pad_sequences\n",
    "from nltk import word_tokenize, sent_tokenize\n",
    "from nltk.corpus import stopwords\n",
    "import re\n",
    "import string\n",
    "import unicodedata\n",
    "import nltk\n",
    "\n",
    "from termcolor import colored"
   ]
  },
  {
   "cell_type": "code",
   "execution_count": 4,
   "id": "43da9f6d",
   "metadata": {},
   "outputs": [],
   "source": [
    "def remove_url(str):\n",
    "    str = re.sub(r'(?i)\\b((?:https?://|www\\d{0,3}[.]|[a-z0-9.\\-]+[.][a-z]{2,4}/)(?:[^\\s()<>]+|\\(([^\\s()<>]+|(\\([^\\s()<>]+\\)))*\\))+(?:\\(([^\\s()<>]+|(\\([^\\s()<>]+\\)))*\\)|[^\\s`!()\\[\\]{};:\\'\".,<>?«»“”‘’]))', '', str)\n",
    "    return str\n",
    "    \n",
    "def remove_digit(str):\n",
    "    str = re.sub(r'[^a-z ]*([.0-9])*\\d', ' ', str)\n",
    "    return str \n",
    "\n",
    "def remove_non_ascii(str):\n",
    "    str = unicodedata.normalize('NFKD', str).encode('ascii', 'ignore').decode('utf-8', 'ignore')\n",
    "    return str\n",
    "\n",
    "def remove_twitter_char(str):  \n",
    "    # mention\n",
    "    str = re.sub(r'(?:@[\\w_]+)', ' ', str)\n",
    "    # hashtag\n",
    "    str = re.sub(r\"(?:\\#+[\\w_]+[\\w\\'_\\-]*[\\w_]+)\", \" \", str)\n",
    "    # RT/cc\n",
    "    str = re.sub('RT', ' ', str)\n",
    "\n",
    "    return str\n",
    "\n",
    "def remove_punctuation(str):\n",
    "    str = re.sub(r'[^\\s\\w]', ' ', str)\n",
    "    return str\n",
    "\n",
    "def remove_multi_space(str):\n",
    "    str = re.sub('[\\s]+', ' ', str)\n",
    "    return str\n",
    "\n",
    "def casefolding(str):  \n",
    "    str = str.lower()   \n",
    "    return ' '.join(str.split())\n",
    "\n",
    "def remove_repeated_character(str):\n",
    "    str = re.sub(r'(.)\\1{2,}', r'\\1', str)\n",
    "    return str\n",
    "\n",
    "def normalize_slang_word(str):\n",
    "    alay_dict = pd.read_csv('data/slang_word_list.csv', encoding='latin-1', header=None)\n",
    "    alay_dict = alay_dict.rename(columns={0: 'original', 1: 'replacement'})\n",
    "    alay_dict_map = dict(zip(alay_dict['original'], alay_dict['replacement']))\n",
    "    return ' '.join([alay_dict_map[word] if word in alay_dict_map else word for word in str.split(' ')])\n",
    "\n",
    "def remove_laugh(str):\n",
    "    str = re.sub(r\"\\b(?:(h|a|e)*(?:(ha|he|hue))+h?|(?:l+o+)+l+)|(?:(w|k)*(?:wk)+(w?|k?))\\b\", ' ', str)\n",
    "    \n",
    "    return str\n",
    "\n",
    "def remove_unused_char(str):\n",
    "    tmp = \"\"    \n",
    "    if len(str) < 3:\n",
    "        tmp\n",
    "    else:\n",
    "        tmp = str\n",
    "        \n",
    "    return tmp"
   ]
  },
  {
   "cell_type": "code",
   "execution_count": 5,
   "id": "6bf47130",
   "metadata": {},
   "outputs": [],
   "source": [
    "def preprocessing(str):\n",
    "    str = remove_url(str)\n",
    "    str = remove_twitter_char(str)\n",
    "    str = remove_digit(str)\n",
    "    str = remove_non_ascii(str)\n",
    "    str = remove_punctuation(str)\n",
    "    str = remove_laugh(str)\n",
    "    str = remove_multi_space(str) \n",
    "    str = remove_repeated_character(str)    \n",
    "    str = casefolding(str)\n",
    "    str = normalize_slang_word(str)\n",
    "    str = remove_unused_char(str)\n",
    "    \n",
    "    return str"
   ]
  },
  {
   "cell_type": "code",
   "execution_count": 6,
   "id": "0bd02fd9",
   "metadata": {},
   "outputs": [],
   "source": [
    "train = pd.read_excel(\"dataset_clean/train_preprocess.xlsx\")\n",
    "train.replace('', np.nan, inplace=True)\n",
    "train.dropna(inplace=True) # memastikan tidak ada nilai yang kosong\n",
    "\n",
    "tokenizer = Tokenizer()\n",
    "tokenizer.fit_on_texts(train['sentence'].values)\n",
    "maxlen = max([len(i.split()) for i in train['sentence'].values])"
   ]
  },
  {
   "cell_type": "code",
   "execution_count": 10,
   "id": "2d857261",
   "metadata": {},
   "outputs": [
    {
     "name": "stdout",
     "output_type": "stream",
     "text": [
      " * Serving Flask app '__main__' (lazy loading)\n",
      " * Environment: production\n",
      "\u001b[31m   WARNING: This is a development server. Do not use it in a production deployment.\u001b[0m\n",
      "\u001b[2m   Use a production WSGI server instead.\u001b[0m\n",
      " * Debug mode: off\n"
     ]
    },
    {
     "name": "stderr",
     "output_type": "stream",
     "text": [
      " * Running on http://127.0.0.1:5000/ (Press CTRL+C to quit)\n",
      "127.0.0.1 - - [25/May/2022 07:33:14] \"GET / HTTP/1.1\" 200 -\n"
     ]
    },
    {
     "name": "stdout",
     "output_type": "stream",
     "text": [
      "nama saya raihan\n",
      "WARNING:tensorflow:Model was constructed with shape (None, 58) for input KerasTensor(type_spec=TensorSpec(shape=(None, 58), dtype=tf.float32, name='embedding_input'), name='embedding_input', description=\"created by layer 'embedding_input'\"), but it was called on an input with incompatible shape (None, 85).\n"
     ]
    },
    {
     "name": "stderr",
     "output_type": "stream",
     "text": [
      "127.0.0.1 - - [25/May/2022 07:33:22] \"POST /result HTTP/1.1\" 200 -\n"
     ]
    },
    {
     "name": "stdout",
     "output_type": "stream",
     "text": [
      "[[0.95557064 0.04381523]]\n"
     ]
    },
    {
     "name": "stderr",
     "output_type": "stream",
     "text": [
      "127.0.0.1 - - [25/May/2022 07:33:25] \"GET / HTTP/1.1\" 200 -\n",
      "127.0.0.1 - - [25/May/2022 07:33:38] \"POST /result HTTP/1.1\" 200 -\n"
     ]
    },
    {
     "name": "stdout",
     "output_type": "stream",
     "text": [
      "muka lu kayak kontol\n",
      "[[9.1072041e-05 9.9991035e-01]]\n"
     ]
    },
    {
     "name": "stderr",
     "output_type": "stream",
     "text": [
      "127.0.0.1 - - [25/May/2022 07:33:56] \"GET / HTTP/1.1\" 200 -\n",
      "127.0.0.1 - - [25/May/2022 07:34:05] \"POST /result HTTP/1.1\" 200 -\n"
     ]
    },
    {
     "name": "stdout",
     "output_type": "stream",
     "text": [
      "anjing kontol bangsat\n",
      "[[9.991025e-01 8.905232e-04]]\n"
     ]
    },
    {
     "name": "stderr",
     "output_type": "stream",
     "text": [
      "127.0.0.1 - - [25/May/2022 07:35:27] \"GET / HTTP/1.1\" 200 -\n",
      "127.0.0.1 - - [25/May/2022 07:35:44] \"POST /result HTTP/1.1\" 200 -\n"
     ]
    },
    {
     "name": "stdout",
     "output_type": "stream",
     "text": [
      "tolol banget jadi orang\n",
      "[[0.9984255  0.00155509]]\n"
     ]
    }
   ],
   "source": [
    "app = Flask(__name__, template_folder = r\"C:\\Users\\PREDATOR\\Downloads\\uji Coba\")\n",
    "\n",
    "model = load_model('model.h5') \n",
    "\n",
    "@app.route('/')\n",
    "def feedback():\n",
    "    return render_template('feedback_pred.html')\n",
    "\n",
    "@app.route('/result',methods=['POST','GET'])\n",
    "def result():\n",
    "\n",
    "    if request.method == 'POST':\n",
    "        kalimat = request.form['Data']\n",
    "        print(kalimat)\n",
    "        kalimat = preprocessing(kalimat)\n",
    "        kalimat = sent_tokenize(kalimat)\n",
    "        kalimat = tokenizer.texts_to_sequences(kalimat)\n",
    "        kalimat = pad_sequences(kalimat, maxlen=maxlen)\n",
    "        pred = model.predict(kalimat)\n",
    "        print(pred)\n",
    "        if(np.argmax(pred) == 0):\n",
    "            return render_template('feedback_result.html',result = \"positive\")\n",
    "        elif (np.argmax(pred) == 1):\n",
    "            return render_template('feedback_result.html',result = \"negative\")\n",
    "\n",
    "\n",
    "\n",
    "if __name__ == '__main__':\n",
    "    app.run()\n"
   ]
  },
  {
   "cell_type": "code",
   "execution_count": 11,
   "id": "a7dab814",
   "metadata": {},
   "outputs": [
    {
     "ename": "NameError",
     "evalue": "name 'pred' is not defined",
     "output_type": "error",
     "traceback": [
      "\u001b[1;31m---------------------------------------------------------------------------\u001b[0m",
      "\u001b[1;31mNameError\u001b[0m                                 Traceback (most recent call last)",
      "\u001b[1;32m<ipython-input-11-008509a38355>\u001b[0m in \u001b[0;36m<module>\u001b[1;34m\u001b[0m\n\u001b[1;32m----> 1\u001b[1;33m \u001b[0mprint\u001b[0m\u001b[1;33m(\u001b[0m\u001b[0mpred\u001b[0m\u001b[1;33m)\u001b[0m\u001b[1;33m\u001b[0m\u001b[1;33m\u001b[0m\u001b[0m\n\u001b[0m",
      "\u001b[1;31mNameError\u001b[0m: name 'pred' is not defined"
     ]
    }
   ],
   "source": []
  },
  {
   "cell_type": "code",
   "execution_count": 12,
   "id": "c171f8a6",
   "metadata": {},
   "outputs": [
    {
     "name": "stdout",
     "output_type": "stream",
     "text": [
      "feedback detected\n"
     ]
    },
    {
     "data": {
      "application/vnd.jupyter.widget-view+json": {
       "model_id": "50fc0a558094401e9802e281faccc52e",
       "version_major": 2,
       "version_minor": 0
      },
      "text/plain": [
       "Text(value='', layout=Layout(width='80%'))"
      ]
     },
     "metadata": {},
     "output_type": "display_data"
    },
    {
     "data": {
      "application/vnd.jupyter.widget-view+json": {
       "model_id": "5a73ead615504c48b97f37099a26f95d",
       "version_major": 2,
       "version_minor": 0
      },
      "text/plain": [
       "ToggleButton(value=False, description='Check')"
      ]
     },
     "metadata": {},
     "output_type": "display_data"
    },
    {
     "data": {
      "application/vnd.jupyter.widget-view+json": {
       "model_id": "685253124152442091de01533da46e17",
       "version_major": 2,
       "version_minor": 0
      },
      "text/plain": [
       "Output()"
      ]
     },
     "metadata": {},
     "output_type": "display_data"
    }
   ],
   "source": [
    "print(\"feedback detected\")\n",
    "button = widgets.ToggleButton(description=\"Check\")\n",
    "text = widgets.Text(layout=Layout(width='80%'))\n",
    "output = widgets.Output()\n",
    "\n",
    "def on_button_clicked(b):\n",
    "    output.clear_output()      \n",
    "    with output:\n",
    "        kalimat = text.value\n",
    "        kalimat = preprocessing(kalimat)\n",
    "        kalimat = sent_tokenize(kalimat)\n",
    "        kalimat = tokenizer.texts_to_sequences(kalimat)\n",
    "        kalimat = pad_sequences(kalimat, maxlen=maxlen)\n",
    "        pred = model.predict(kalimat)  \n",
    "        print(\"Status Konten: \")\n",
    "        if(np.argmax(pred) == 0):\n",
    "            non_adult = colored('Positive', color='grey', on_color='on_green', attrs=['bold'])\n",
    "            print(non_adult)\n",
    "        elif (np.argmax(pred) == 1):\n",
    "            adult = colored('Negative', color='grey', on_color='on_red', attrs=['bold'])\n",
    "            print(adult)\n",
    "\n",
    "display(text)\n",
    "display(button, output)\n",
    "button.observe(on_button_clicked)"
   ]
  },
  {
   "cell_type": "code",
   "execution_count": 13,
   "id": "a713afe6",
   "metadata": {},
   "outputs": [
    {
     "ename": "NameError",
     "evalue": "name 'pred' is not defined",
     "output_type": "error",
     "traceback": [
      "\u001b[1;31m---------------------------------------------------------------------------\u001b[0m",
      "\u001b[1;31mNameError\u001b[0m                                 Traceback (most recent call last)",
      "\u001b[1;32m<ipython-input-13-6a722188fa63>\u001b[0m in \u001b[0;36m<module>\u001b[1;34m\u001b[0m\n\u001b[1;32m----> 1\u001b[1;33m \u001b[0mdf\u001b[0m \u001b[1;33m=\u001b[0m \u001b[0mpd\u001b[0m\u001b[1;33m.\u001b[0m\u001b[0mDataFrame\u001b[0m\u001b[1;33m(\u001b[0m\u001b[0mpred\u001b[0m\u001b[1;33m,\u001b[0m \u001b[0mcolumns\u001b[0m \u001b[1;33m=\u001b[0m \u001b[1;33m[\u001b[0m\u001b[1;34m'ouput'\u001b[0m\u001b[1;33m]\u001b[0m\u001b[1;33m)\u001b[0m\u001b[1;33m\u001b[0m\u001b[1;33m\u001b[0m\u001b[0m\n\u001b[0m",
      "\u001b[1;31mNameError\u001b[0m: name 'pred' is not defined"
     ]
    }
   ],
   "source": [
    "df = pd.DataFrame(pred, columns = ['ouput'])\n",
    "\n",
    "cols = prediction[0].keys()\n",
    "df = pd.DataFrame([[getattr(i,j) for j in cols] for i in prediction], columns = cols)"
   ]
  },
  {
   "cell_type": "code",
   "execution_count": null,
   "id": "c0ad5b3c",
   "metadata": {},
   "outputs": [],
   "source": []
  }
 ],
 "metadata": {
  "kernelspec": {
   "display_name": "Python 3",
   "language": "python",
   "name": "python3"
  },
  "language_info": {
   "codemirror_mode": {
    "name": "ipython",
    "version": 3
   },
   "file_extension": ".py",
   "mimetype": "text/x-python",
   "name": "python",
   "nbconvert_exporter": "python",
   "pygments_lexer": "ipython3",
   "version": "3.9.5"
  },
  "varInspector": {
   "cols": {
    "lenName": 16,
    "lenType": 16,
    "lenVar": 40
   },
   "kernels_config": {
    "python": {
     "delete_cmd_postfix": "",
     "delete_cmd_prefix": "del ",
     "library": "var_list.py",
     "varRefreshCmd": "print(var_dic_list())"
    },
    "r": {
     "delete_cmd_postfix": ") ",
     "delete_cmd_prefix": "rm(",
     "library": "var_list.r",
     "varRefreshCmd": "cat(var_dic_list()) "
    }
   },
   "types_to_exclude": [
    "module",
    "function",
    "builtin_function_or_method",
    "instance",
    "_Feature"
   ],
   "window_display": false
  }
 },
 "nbformat": 4,
 "nbformat_minor": 5
}
