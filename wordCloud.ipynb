{
  "nbformat": 4,
  "nbformat_minor": 0,
  "metadata": {
    "colab": {
      "name": "wordCloudv2.ipynb",
      "provenance": [],
      "collapsed_sections": []
    },
    "kernelspec": {
      "name": "python3",
      "display_name": "Python 3"
    },
    "language_info": {
      "name": "python"
    }
  },
  "cells": [
    {
      "cell_type": "code",
      "execution_count": 1,
      "metadata": {
        "id": "XaA9PehUm-td",
        "colab": {
          "base_uri": "https://localhost:8080/"
        },
        "outputId": "5f3ade50-b3bc-4dd6-bb57-131d6a4fc83b"
      },
      "outputs": [
        {
          "output_type": "stream",
          "name": "stdout",
          "text": [
            "Looking in indexes: https://pypi.org/simple, https://us-python.pkg.dev/colab-wheels/public/simple/\n",
            "Collecting fileupload\n",
            "  Downloading fileupload-0.1.5-py2.py3-none-any.whl (6.2 kB)\n",
            "Requirement already satisfied: traitlets>=4.2 in /usr/local/lib/python3.7/dist-packages (from fileupload) (5.1.1)\n",
            "Requirement already satisfied: notebook>=4.2 in /usr/local/lib/python3.7/dist-packages (from fileupload) (5.3.1)\n",
            "Requirement already satisfied: ipywidgets>=5.1 in /usr/local/lib/python3.7/dist-packages (from fileupload) (7.7.0)\n",
            "Requirement already satisfied: ipython-genutils~=0.2.0 in /usr/local/lib/python3.7/dist-packages (from ipywidgets>=5.1->fileupload) (0.2.0)\n",
            "Requirement already satisfied: nbformat>=4.2.0 in /usr/local/lib/python3.7/dist-packages (from ipywidgets>=5.1->fileupload) (5.4.0)\n",
            "Requirement already satisfied: ipykernel>=4.5.1 in /usr/local/lib/python3.7/dist-packages (from ipywidgets>=5.1->fileupload) (4.10.1)\n",
            "Requirement already satisfied: ipython>=4.0.0 in /usr/local/lib/python3.7/dist-packages (from ipywidgets>=5.1->fileupload) (5.5.0)\n",
            "Requirement already satisfied: jupyterlab-widgets>=1.0.0 in /usr/local/lib/python3.7/dist-packages (from ipywidgets>=5.1->fileupload) (1.1.0)\n",
            "Requirement already satisfied: widgetsnbextension~=3.6.0 in /usr/local/lib/python3.7/dist-packages (from ipywidgets>=5.1->fileupload) (3.6.0)\n",
            "Requirement already satisfied: jupyter-client in /usr/local/lib/python3.7/dist-packages (from ipykernel>=4.5.1->ipywidgets>=5.1->fileupload) (5.3.5)\n",
            "Requirement already satisfied: tornado>=4.0 in /usr/local/lib/python3.7/dist-packages (from ipykernel>=4.5.1->ipywidgets>=5.1->fileupload) (5.1.1)\n",
            "Requirement already satisfied: simplegeneric>0.8 in /usr/local/lib/python3.7/dist-packages (from ipython>=4.0.0->ipywidgets>=5.1->fileupload) (0.8.1)\n",
            "Requirement already satisfied: prompt-toolkit<2.0.0,>=1.0.4 in /usr/local/lib/python3.7/dist-packages (from ipython>=4.0.0->ipywidgets>=5.1->fileupload) (1.0.18)\n",
            "Requirement already satisfied: pexpect in /usr/local/lib/python3.7/dist-packages (from ipython>=4.0.0->ipywidgets>=5.1->fileupload) (4.8.0)\n",
            "Requirement already satisfied: pygments in /usr/local/lib/python3.7/dist-packages (from ipython>=4.0.0->ipywidgets>=5.1->fileupload) (2.6.1)\n",
            "Requirement already satisfied: pickleshare in /usr/local/lib/python3.7/dist-packages (from ipython>=4.0.0->ipywidgets>=5.1->fileupload) (0.7.5)\n",
            "Requirement already satisfied: decorator in /usr/local/lib/python3.7/dist-packages (from ipython>=4.0.0->ipywidgets>=5.1->fileupload) (4.4.2)\n",
            "Requirement already satisfied: setuptools>=18.5 in /usr/local/lib/python3.7/dist-packages (from ipython>=4.0.0->ipywidgets>=5.1->fileupload) (57.4.0)\n",
            "Requirement already satisfied: fastjsonschema in /usr/local/lib/python3.7/dist-packages (from nbformat>=4.2.0->ipywidgets>=5.1->fileupload) (2.15.3)\n",
            "Requirement already satisfied: jsonschema>=2.6 in /usr/local/lib/python3.7/dist-packages (from nbformat>=4.2.0->ipywidgets>=5.1->fileupload) (4.3.3)\n",
            "Requirement already satisfied: jupyter-core in /usr/local/lib/python3.7/dist-packages (from nbformat>=4.2.0->ipywidgets>=5.1->fileupload) (4.10.0)\n",
            "Requirement already satisfied: importlib-metadata in /usr/local/lib/python3.7/dist-packages (from jsonschema>=2.6->nbformat>=4.2.0->ipywidgets>=5.1->fileupload) (4.11.3)\n",
            "Requirement already satisfied: attrs>=17.4.0 in /usr/local/lib/python3.7/dist-packages (from jsonschema>=2.6->nbformat>=4.2.0->ipywidgets>=5.1->fileupload) (21.4.0)\n",
            "Requirement already satisfied: typing-extensions in /usr/local/lib/python3.7/dist-packages (from jsonschema>=2.6->nbformat>=4.2.0->ipywidgets>=5.1->fileupload) (4.2.0)\n",
            "Requirement already satisfied: pyrsistent!=0.17.0,!=0.17.1,!=0.17.2,>=0.14.0 in /usr/local/lib/python3.7/dist-packages (from jsonschema>=2.6->nbformat>=4.2.0->ipywidgets>=5.1->fileupload) (0.18.1)\n",
            "Requirement already satisfied: importlib-resources>=1.4.0 in /usr/local/lib/python3.7/dist-packages (from jsonschema>=2.6->nbformat>=4.2.0->ipywidgets>=5.1->fileupload) (5.7.1)\n",
            "Requirement already satisfied: zipp>=3.1.0 in /usr/local/lib/python3.7/dist-packages (from importlib-resources>=1.4.0->jsonschema>=2.6->nbformat>=4.2.0->ipywidgets>=5.1->fileupload) (3.8.0)\n",
            "Requirement already satisfied: Send2Trash in /usr/local/lib/python3.7/dist-packages (from notebook>=4.2->fileupload) (1.8.0)\n",
            "Requirement already satisfied: terminado>=0.8.1 in /usr/local/lib/python3.7/dist-packages (from notebook>=4.2->fileupload) (0.13.3)\n",
            "Requirement already satisfied: nbconvert in /usr/local/lib/python3.7/dist-packages (from notebook>=4.2->fileupload) (5.6.1)\n",
            "Requirement already satisfied: jinja2 in /usr/local/lib/python3.7/dist-packages (from notebook>=4.2->fileupload) (2.11.3)\n",
            "Requirement already satisfied: python-dateutil>=2.1 in /usr/local/lib/python3.7/dist-packages (from jupyter-client->ipykernel>=4.5.1->ipywidgets>=5.1->fileupload) (2.8.2)\n",
            "Requirement already satisfied: pyzmq>=13 in /usr/local/lib/python3.7/dist-packages (from jupyter-client->ipykernel>=4.5.1->ipywidgets>=5.1->fileupload) (23.0.0)\n",
            "Requirement already satisfied: wcwidth in /usr/local/lib/python3.7/dist-packages (from prompt-toolkit<2.0.0,>=1.0.4->ipython>=4.0.0->ipywidgets>=5.1->fileupload) (0.2.5)\n",
            "Requirement already satisfied: six>=1.9.0 in /usr/local/lib/python3.7/dist-packages (from prompt-toolkit<2.0.0,>=1.0.4->ipython>=4.0.0->ipywidgets>=5.1->fileupload) (1.15.0)\n",
            "Requirement already satisfied: ptyprocess in /usr/local/lib/python3.7/dist-packages (from terminado>=0.8.1->notebook>=4.2->fileupload) (0.7.0)\n",
            "Requirement already satisfied: MarkupSafe>=0.23 in /usr/local/lib/python3.7/dist-packages (from jinja2->notebook>=4.2->fileupload) (2.0.1)\n",
            "Requirement already satisfied: defusedxml in /usr/local/lib/python3.7/dist-packages (from nbconvert->notebook>=4.2->fileupload) (0.7.1)\n",
            "Requirement already satisfied: mistune<2,>=0.8.1 in /usr/local/lib/python3.7/dist-packages (from nbconvert->notebook>=4.2->fileupload) (0.8.4)\n",
            "Requirement already satisfied: testpath in /usr/local/lib/python3.7/dist-packages (from nbconvert->notebook>=4.2->fileupload) (0.6.0)\n",
            "Requirement already satisfied: pandocfilters>=1.4.1 in /usr/local/lib/python3.7/dist-packages (from nbconvert->notebook>=4.2->fileupload) (1.5.0)\n",
            "Requirement already satisfied: entrypoints>=0.2.2 in /usr/local/lib/python3.7/dist-packages (from nbconvert->notebook>=4.2->fileupload) (0.4)\n",
            "Requirement already satisfied: bleach in /usr/local/lib/python3.7/dist-packages (from nbconvert->notebook>=4.2->fileupload) (5.0.0)\n",
            "Requirement already satisfied: webencodings in /usr/local/lib/python3.7/dist-packages (from bleach->nbconvert->notebook>=4.2->fileupload) (0.5.1)\n",
            "Installing collected packages: fileupload\n",
            "Successfully installed fileupload-0.1.5\n"
          ]
        }
      ],
      "source": [
        "!pip install fileupload\n",
        "\n",
        "import fileupload\n",
        "import re\n",
        "import unicodedata\n",
        "import pandas as pd\n",
        "import operator\n",
        "import json "
      ]
    },
    {
      "cell_type": "code",
      "source": [
        "def remove_url(str):\n",
        "    str = re.sub(r'(?i)\\b((?:https?://|www\\d{0,3}[.]|[a-z0-9.\\-]+[.][a-z]{2,4}/)(?:[^\\s()<>]+|\\(([^\\s()<>]+|(\\([^\\s()<>]+\\)))*\\))+(?:\\(([^\\s()<>]+|(\\([^\\s()<>]+\\)))*\\)|[^\\s`!()\\[\\]{};:\\'\".,<>?«»“”‘’]))', '', str)\n",
        "    return str\n",
        "    \n",
        "def remove_digit(str):\n",
        "    str = re.sub(r'[^a-z ]*([.0-9])*\\d', ' ', str)\n",
        "    return str \n",
        "\n",
        "def remove_non_ascii(str):\n",
        "    str = unicodedata.normalize('NFKD', str).encode('ascii', 'ignore').decode('utf-8', 'ignore')\n",
        "    return str\n",
        "\n",
        "def remove_twitter_char(str):  \n",
        "    # mention\n",
        "    str = re.sub(r'(?:@[\\w_]+)', ' ', str)\n",
        "    # hashtag\n",
        "    str = re.sub(r\"(?:\\#+[\\w_]+[\\w\\'_\\-]*[\\w_]+)\", \" \", str)\n",
        "    # RT/cc\n",
        "    str = re.sub('RT', ' ', str)\n",
        "\n",
        "    return str\n",
        "\n",
        "def remove_punctuation(str):\n",
        "    str = re.sub(r'[^\\s\\w]', ' ', str)\n",
        "    return str\n",
        "\n",
        "def remove_multi_space(str):\n",
        "    str = re.sub('[\\s]+', ' ', str)\n",
        "    return str\n",
        "\n",
        "def casefolding(str):  \n",
        "    str = str.lower()   \n",
        "    return ' '.join(str.split())\n",
        "\n",
        "def remove_repeated_character(str):\n",
        "    str = re.sub(r'(.)\\1{2,}', r'\\1', str)\n",
        "    return str\n",
        "\n",
        "def normalize_slang_word(str):\n",
        "    alay_dict = pd.read_csv('slang_word_list.csv', encoding='latin-1', header=None)\n",
        "    alay_dict = alay_dict.rename(columns={0: 'original', 1: 'replacement'})\n",
        "    alay_dict_map = dict(zip(alay_dict['original'], alay_dict['replacement']))\n",
        "    return ' '.join([alay_dict_map[word] if word in alay_dict_map else word for word in str.split(' ')])\n",
        "\n",
        "def remove_laugh(str):\n",
        "    str = re.sub(r\"\\b(?:(h|a|e)*(?:(ha|he|hue))+h?|(?:l+o+)+l+)|(?:(w|k)*(?:wk)+(w?|k?))\\b\", ' ', str)\n",
        "    \n",
        "    return str\n",
        "\n",
        "def remove_unused_char(str):\n",
        "    tmp = \"\"    \n",
        "    if len(str) < 3:\n",
        "        tmp\n",
        "    else:\n",
        "        tmp = str\n",
        "        \n",
        "    return tmp"
      ],
      "metadata": {
        "id": "k7A9xHcApgWe"
      },
      "execution_count": 2,
      "outputs": []
    },
    {
      "cell_type": "code",
      "source": [
        "def preprocessing(str):\n",
        "    str = remove_url(str)\n",
        "    str = remove_twitter_char(str)\n",
        "    str = remove_digit(str)\n",
        "    str = remove_non_ascii(str)\n",
        "    str = remove_punctuation(str)\n",
        "    str = remove_laugh(str)\n",
        "    str = remove_multi_space(str) \n",
        "    str = remove_repeated_character(str)    \n",
        "    str = casefolding(str)\n",
        "    str = normalize_slang_word(str)\n",
        "    str = remove_unused_char(str)\n",
        "    \n",
        "    return str"
      ],
      "metadata": {
        "id": "XpP89IYOphDO"
      },
      "execution_count": 3,
      "outputs": []
    },
    {
      "cell_type": "code",
      "source": [
        "data = pd.read_csv('train_preprocess1.csv')\n",
        "sentence = data['sentence']\n",
        "print(sentence)\n",
        "\n",
        "# pada bagian ini nanti import ambil data dari database\n",
        "# sesuai sql query\n",
        "# select commentary from order_review\n",
        "# where rating_model_sum >= 3 and id_freelancer == \n",
        "# \"data yang diambil dari klik freelancer\" "
      ],
      "metadata": {
        "id": "nKVrY87IoQc0",
        "colab": {
          "base_uri": "https://localhost:8080/"
        },
        "outputId": "d4a0b9d7-0a79-4892-fce5-c563432fb545"
      },
      "execution_count": null,
      "outputs": [
        {
          "output_type": "stream",
          "name": "stdout",
          "text": [
            "0        warung ini dimiliki oleh pengusaha pabrik tahu...\n",
            "1        mohon ulama lurus dan k mmbri hujjah partai ap...\n",
            "2        lokasi strategis di jalan sumatra bandung temp...\n",
            "3        betapa bahagia nya diri ini saat unboxing pake...\n",
            "4        aduh jadi mahasiswa jangan sombong dong kasih ...\n",
            "                               ...                        \n",
            "10992                                         tidak kecewa\n",
            "10993    enak rasa masakan nya apalagi kepiting yang me...\n",
            "10994          hormati partai partai yang telah berkoalisi\n",
            "10995    pagi pagi di tol pasteur sudah macet parah bik...\n",
            "10996    meskipun sering belanja ke yogyakarta di riau ...\n",
            "Name: sentence, Length: 10997, dtype: object\n"
          ]
        }
      ]
    },
    {
      "cell_type": "code",
      "source": [
        "sentence = sentence.apply(preprocessing)"
      ],
      "metadata": {
        "id": "_RqHG686PkQ_"
      },
      "execution_count": null,
      "outputs": []
    },
    {
      "cell_type": "code",
      "source": [
        "data2 = pd.read_csv('kata_sifat.csv')\n",
        "adj = data2['word']\n",
        "adj"
      ],
      "metadata": {
        "id": "qRZBfV62WiuZ",
        "colab": {
          "base_uri": "https://localhost:8080/"
        },
        "outputId": "138a74ce-8ed0-4652-b2d9-549516748a34"
      },
      "execution_count": null,
      "outputs": [
        {
          "output_type": "execute_result",
          "data": {
            "text/plain": [
              "0           abadi\n",
              "1       abaktinal\n",
              "2           abang\n",
              "3        abjadiah\n",
              "4        abnormal\n",
              "          ...    \n",
              "3591      zakelek\n",
              "3592       zakiah\n",
              "3593        zalir\n",
              "3594      zig-zag\n",
              "3595      zimotik\n",
              "Name: word, Length: 3596, dtype: object"
            ]
          },
          "metadata": {},
          "execution_count": 31
        }
      ]
    },
    {
      "cell_type": "code",
      "source": [
        "count_word = {}\n",
        "sentence = sentence.str.split(\" \")\n",
        "\n",
        "# print(sentences)\n",
        "\n",
        "for sw in sentence:\n",
        "  for i in sw:\n",
        "    for sw2 in adj:\n",
        "      if(i == sw2):\n",
        "        count = count_word.get(i, 0)\n",
        "        count += 1\n",
        "        count_word[sw2] = count"
      ],
      "metadata": {
        "id": "UCbs-ZKwXrpx"
      },
      "execution_count": null,
      "outputs": []
    },
    {
      "cell_type": "code",
      "source": [
        "newA = dict(sorted(count_word.items(), key=operator.itemgetter(1), reverse=True)[:5])"
      ],
      "metadata": {
        "id": "JO8K8rc5uqFP"
      },
      "execution_count": null,
      "outputs": []
    },
    {
      "cell_type": "code",
      "source": [
        "newA"
      ],
      "metadata": {
        "colab": {
          "base_uri": "https://localhost:8080/"
        },
        "id": "A9hHnUL0viNt",
        "outputId": "357e9dad-536d-4916-f0f0-49e860243910"
      },
      "execution_count": null,
      "outputs": [
        {
          "output_type": "execute_result",
          "data": {
            "text/plain": [
              "{'cocok': 632, 'lain': 650, 'lebih': 792, 'nyaman': 932, 'salah': 520}"
            ]
          },
          "metadata": {},
          "execution_count": 12
        }
      ]
    },
    {
      "cell_type": "code",
      "source": [
        "part_nums = {'cocok': 632, 'lain': 650, 'lebih': 792, 'nyaman': 932, 'salah': 520}"
      ],
      "metadata": {
        "id": "FUJ8HKXAXRAN"
      },
      "execution_count": null,
      "outputs": []
    },
    {
      "cell_type": "code",
      "source": [
        "a = part_nums.keys()\n",
        "b = part_nums.values() "
      ],
      "metadata": {
        "id": "Fc9jOr31ZbvU"
      },
      "execution_count": null,
      "outputs": []
    },
    {
      "cell_type": "code",
      "source": [
        "list=[]\n",
        "for idx1, i in enumerate(part_nums.keys()):\n",
        "  for idx2, j in enumerate(part_nums.values()):\n",
        "    if idx1 == idx2:\n",
        "      list.append(i)\n",
        "      list.append(j)"
      ],
      "metadata": {
        "id": "4R7Qyd6egz48"
      },
      "execution_count": null,
      "outputs": []
    },
    {
      "cell_type": "code",
      "source": [
        "list"
      ],
      "metadata": {
        "colab": {
          "base_uri": "https://localhost:8080/"
        },
        "id": "FtRgzJKnh60u",
        "outputId": "83ac3265-e350-4934-919f-1c3744f866ae"
      },
      "execution_count": null,
      "outputs": [
        {
          "output_type": "execute_result",
          "data": {
            "text/plain": [
              "['cocok', 632, 'lain', 650, 'lebih', 792, 'nyaman', 932, 'salah', 520]"
            ]
          },
          "metadata": {},
          "execution_count": 16
        }
      ]
    },
    {
      "cell_type": "code",
      "source": [
        "lst = []\n",
        "for idx1, pn in enumerate(list):\n",
        "  for idx2, i in enumerate(list):\n",
        "    d = {}\n",
        "    d['sifat']=pn\n",
        "    if idx1 == idx2-1:\n",
        "      d['value']=i\n",
        "      lst.append(d)\n",
        "      # hasil = json.dumps(d)\n",
        "        \n",
        "# json.dumps(lst)"
      ],
      "metadata": {
        "id": "sKa2v4zZisVw"
      },
      "execution_count": null,
      "outputs": []
    },
    {
      "cell_type": "code",
      "source": [
        "lst"
      ],
      "metadata": {
        "colab": {
          "base_uri": "https://localhost:8080/"
        },
        "id": "Arlb3RzknpFl",
        "outputId": "fc34422b-6497-449f-b0aa-d771833cf771"
      },
      "execution_count": null,
      "outputs": [
        {
          "output_type": "execute_result",
          "data": {
            "text/plain": [
              "[{'sifat': 'cocok', 'value': 632},\n",
              " {'sifat': 632, 'value': 'lain'},\n",
              " {'sifat': 'lain', 'value': 650},\n",
              " {'sifat': 650, 'value': 'lebih'},\n",
              " {'sifat': 'lebih', 'value': 792},\n",
              " {'sifat': 792, 'value': 'nyaman'},\n",
              " {'sifat': 'nyaman', 'value': 932},\n",
              " {'sifat': 932, 'value': 'salah'},\n",
              " {'sifat': 'salah', 'value': 520}]"
            ]
          },
          "metadata": {},
          "execution_count": 18
        }
      ]
    },
    {
      "cell_type": "code",
      "source": [
        "listAkhir = []\n",
        "\n",
        "for idx1, pn in enumerate(lst):\n",
        "  if idx1 % 2 == 0:\n",
        "    listAkhir.append(pn)"
      ],
      "metadata": {
        "id": "30i6vjKxja9y"
      },
      "execution_count": null,
      "outputs": []
    },
    {
      "cell_type": "code",
      "source": [
        "listAkhir"
      ],
      "metadata": {
        "colab": {
          "base_uri": "https://localhost:8080/"
        },
        "id": "C4OjrptBoI02",
        "outputId": "1f1c9c9a-14bd-4c6b-a270-0fdfec962899"
      },
      "execution_count": null,
      "outputs": [
        {
          "output_type": "execute_result",
          "data": {
            "text/plain": [
              "[{'sifat': 'cocok', 'value': 632},\n",
              " {'sifat': 'lain', 'value': 650},\n",
              " {'sifat': 'lebih', 'value': 792},\n",
              " {'sifat': 'nyaman', 'value': 932},\n",
              " {'sifat': 'salah', 'value': 520}]"
            ]
          },
          "metadata": {},
          "execution_count": 20
        }
      ]
    },
    {
      "cell_type": "code",
      "source": [
        "with open(\"hasil1.json\", \"w\") as write_file:\n",
        "    json.dump(listAkhir, write_file, indent=4)"
      ],
      "metadata": {
        "id": "hPN3N-QFY4oj"
      },
      "execution_count": null,
      "outputs": []
    }
  ]
}